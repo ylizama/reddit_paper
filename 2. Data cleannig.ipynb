{
 "cells": [
  {
   "cell_type": "markdown",
   "metadata": {},
   "source": [
    "## 1. Import libraries "
   ]
  },
  {
   "cell_type": "code",
   "execution_count": 1,
   "metadata": {},
   "outputs": [],
   "source": [
    "import pandas as pd\n",
    "import requests \n",
    "import json \n",
    "import csv \n",
    "import time\n",
    "import datetime\n",
    "import numpy as np"
   ]
  },
  {
   "cell_type": "markdown",
   "metadata": {},
   "source": [
    "## 2. Functions "
   ]
  },
  {
   "cell_type": "code",
   "execution_count": 2,
   "metadata": {},
   "outputs": [],
   "source": [
    "def separate_missing_values(endpoint, filename, attrs):\n",
    "    df = pd.read_csv(filename)    \n",
    "    print(\"Number of original records: \", len(df))\n",
    "\n",
    "    #replace [deleted] messages\n",
    "    if endpoint=='submission':\n",
    "        df['selftext'].replace('[deleted]',np.NaN,inplace=True)\n",
    "    \n",
    "    #delete records with no text in title and text\n",
    "    df = df.dropna(subset=attrs, how='all')\n",
    "    \n",
    "    df.to_csv('cleanned_' + filename, index=False)\n",
    "    print('Number of valid records:', len(df))\n",
    "    "
   ]
  },
  {
   "cell_type": "markdown",
   "metadata": {},
   "source": [
    "## 3. Cleanning data"
   ]
  },
  {
   "cell_type": "code",
   "execution_count": 21,
   "metadata": {},
   "outputs": [
    {
     "name": "stdout",
     "output_type": "stream",
     "text": [
      "Number of original records:  829\n",
      "Number of valid records: 829\n"
     ]
    }
   ],
   "source": [
    "separate_missing_values('comment', 'data_covid_comment.csv', ['body'])"
   ]
  },
  {
   "cell_type": "code",
   "execution_count": 22,
   "metadata": {},
   "outputs": [
    {
     "name": "stdout",
     "output_type": "stream",
     "text": [
      "Number of original records:  105\n",
      "Number of valid records: 105\n"
     ]
    }
   ],
   "source": [
    "separate_missing_values('submission', 'data_covid_submission.csv', ['selftext', 'title'])"
   ]
  },
  {
   "cell_type": "markdown",
   "metadata": {},
   "source": [
    "## Transforming data"
   ]
  },
  {
   "cell_type": "code",
   "execution_count": 30,
   "metadata": {},
   "outputs": [
    {
     "name": "stdout",
     "output_type": "stream",
     "text": [
      "Index(['comment_id', 'author', 'score', 'created', 'permalink', 'flair',\n",
      "       'body', 'parent_id', 'subreddit', 'subreddit_id'],\n",
      "      dtype='object')\n",
      "Index(['submission_id', 'title', 'url', 'author', 'score', 'created',\n",
      "       'num_comments', 'permalink', 'flair', 'selftext', 'subreddit',\n",
      "       'subreddit_id'],\n",
      "      dtype='object')\n"
     ]
    }
   ],
   "source": []
  },
  {
   "cell_type": "code",
   "execution_count": 31,
   "metadata": {},
   "outputs": [],
   "source": [
    "df = pd.read_csv('cleanned_data_covid_comment.csv')    \n",
    "df2 = pd.read_csv('cleanned_data_covid_submission.csv')    \n",
    "\n",
    "#transform comments\n",
    "df['type'] = 'comment'\n",
    "df['id'] = df['comment_id']\n",
    "df['text'] = df['body']\n",
    "df = df[['id', 'type', 'text', 'created']]\n",
    "\n",
    "#transform submissions\n",
    "df2['type'] = 'submission'\n",
    "df2['id'] = df2['submission_id']\n",
    "df2 = df2.replace(np.nan, '', regex=True) ## replacing NaN values with empty strings before merging\n",
    "df2['text'] = df2['selftext'] + df2['title']\n",
    "df2 = df2[['id', 'type', 'text', 'created']]\n",
    "\n",
    "#merge datasets\n",
    "ndf = pd.concat([df, df2])\n",
    "ndf.to_csv('transform_data.cv', index=False)\n",
    "\n"
   ]
  },
  {
   "cell_type": "code",
   "execution_count": 32,
   "metadata": {},
   "outputs": [
    {
     "data": {
      "text/html": [
       "<div>\n",
       "<style scoped>\n",
       "    .dataframe tbody tr th:only-of-type {\n",
       "        vertical-align: middle;\n",
       "    }\n",
       "\n",
       "    .dataframe tbody tr th {\n",
       "        vertical-align: top;\n",
       "    }\n",
       "\n",
       "    .dataframe thead th {\n",
       "        text-align: right;\n",
       "    }\n",
       "</style>\n",
       "<table border=\"1\" class=\"dataframe\">\n",
       "  <thead>\n",
       "    <tr style=\"text-align: right;\">\n",
       "      <th></th>\n",
       "      <th>id</th>\n",
       "      <th>type</th>\n",
       "      <th>text</th>\n",
       "      <th>created</th>\n",
       "    </tr>\n",
       "  </thead>\n",
       "  <tbody>\n",
       "    <tr>\n",
       "      <th>0</th>\n",
       "      <td>fj83m8c</td>\n",
       "      <td>comment</td>\n",
       "      <td>The report (PDF) https://www.who.int/docs/defa...</td>\n",
       "      <td>2020-03-01 18:13:23</td>\n",
       "    </tr>\n",
       "    <tr>\n",
       "      <th>1</th>\n",
       "      <td>fjdvlek</td>\n",
       "      <td>comment</td>\n",
       "      <td>Within the fever clinics in Guangdong, the per...</td>\n",
       "      <td>2020-03-03 13:28:33</td>\n",
       "    </tr>\n",
       "    <tr>\n",
       "      <th>2</th>\n",
       "      <td>fji62i6</td>\n",
       "      <td>comment</td>\n",
       "      <td>Yeah I've said for a while that there's basica...</td>\n",
       "      <td>2020-03-04 17:33:29</td>\n",
       "    </tr>\n",
       "    <tr>\n",
       "      <th>3</th>\n",
       "      <td>fkcki9q</td>\n",
       "      <td>comment</td>\n",
       "      <td>&amp;gt; now risking a hundred people is a few hou...</td>\n",
       "      <td>2020-03-12 19:17:07</td>\n",
       "    </tr>\n",
       "    <tr>\n",
       "      <th>4</th>\n",
       "      <td>fkfiml1</td>\n",
       "      <td>comment</td>\n",
       "      <td>&amp;gt; strongly disagree with the \"and we now kn...</td>\n",
       "      <td>2020-03-13 17:33:41</td>\n",
       "    </tr>\n",
       "  </tbody>\n",
       "</table>\n",
       "</div>"
      ],
      "text/plain": [
       "        id     type                                               text  \\\n",
       "0  fj83m8c  comment  The report (PDF) https://www.who.int/docs/defa...   \n",
       "1  fjdvlek  comment  Within the fever clinics in Guangdong, the per...   \n",
       "2  fji62i6  comment  Yeah I've said for a while that there's basica...   \n",
       "3  fkcki9q  comment  &gt; now risking a hundred people is a few hou...   \n",
       "4  fkfiml1  comment  &gt; strongly disagree with the \"and we now kn...   \n",
       "\n",
       "               created  \n",
       "0  2020-03-01 18:13:23  \n",
       "1  2020-03-03 13:28:33  \n",
       "2  2020-03-04 17:33:29  \n",
       "3  2020-03-12 19:17:07  \n",
       "4  2020-03-13 17:33:41  "
      ]
     },
     "execution_count": 32,
     "metadata": {},
     "output_type": "execute_result"
    }
   ],
   "source": [
    "df.head()"
   ]
  },
  {
   "cell_type": "code",
   "execution_count": 33,
   "metadata": {},
   "outputs": [
    {
     "data": {
      "text/html": [
       "<div>\n",
       "<style scoped>\n",
       "    .dataframe tbody tr th:only-of-type {\n",
       "        vertical-align: middle;\n",
       "    }\n",
       "\n",
       "    .dataframe tbody tr th {\n",
       "        vertical-align: top;\n",
       "    }\n",
       "\n",
       "    .dataframe thead th {\n",
       "        text-align: right;\n",
       "    }\n",
       "</style>\n",
       "<table border=\"1\" class=\"dataframe\">\n",
       "  <thead>\n",
       "    <tr style=\"text-align: right;\">\n",
       "      <th></th>\n",
       "      <th>id</th>\n",
       "      <th>type</th>\n",
       "      <th>text</th>\n",
       "      <th>created</th>\n",
       "    </tr>\n",
       "  </thead>\n",
       "  <tbody>\n",
       "    <tr>\n",
       "      <th>0</th>\n",
       "      <td>fkk4tj</td>\n",
       "      <td>submission</td>\n",
       "      <td>The cumulative number of confirmed COVID-19 in...</td>\n",
       "      <td>2020-03-18 01:04:16</td>\n",
       "    </tr>\n",
       "    <tr>\n",
       "      <th>1</th>\n",
       "      <td>fkkcwe</td>\n",
       "      <td>submission</td>\n",
       "      <td>The cumulative number of confirmed COVID-19 in...</td>\n",
       "      <td>2020-03-18 01:23:49</td>\n",
       "    </tr>\n",
       "    <tr>\n",
       "      <th>2</th>\n",
       "      <td>fm2nql</td>\n",
       "      <td>submission</td>\n",
       "      <td>A Rough Guide to Getting a COVID-19 Lockdown R...</td>\n",
       "      <td>2020-03-20 17:00:12</td>\n",
       "    </tr>\n",
       "    <tr>\n",
       "      <th>3</th>\n",
       "      <td>fme8v1</td>\n",
       "      <td>submission</td>\n",
       "      <td>Covid-19 has caused the UK in a partial lockdown</td>\n",
       "      <td>2020-03-21 08:30:21</td>\n",
       "    </tr>\n",
       "    <tr>\n",
       "      <th>4</th>\n",
       "      <td>fmea7j</td>\n",
       "      <td>submission</td>\n",
       "      <td>Covid-19 has cause the UK to be in a partial l...</td>\n",
       "      <td>2020-03-21 08:33:43</td>\n",
       "    </tr>\n",
       "  </tbody>\n",
       "</table>\n",
       "</div>"
      ],
      "text/plain": [
       "       id        type                                               text  \\\n",
       "0  fkk4tj  submission  The cumulative number of confirmed COVID-19 in...   \n",
       "1  fkkcwe  submission  The cumulative number of confirmed COVID-19 in...   \n",
       "2  fm2nql  submission  A Rough Guide to Getting a COVID-19 Lockdown R...   \n",
       "3  fme8v1  submission   Covid-19 has caused the UK in a partial lockdown   \n",
       "4  fmea7j  submission  Covid-19 has cause the UK to be in a partial l...   \n",
       "\n",
       "               created  \n",
       "0  2020-03-18 01:04:16  \n",
       "1  2020-03-18 01:23:49  \n",
       "2  2020-03-20 17:00:12  \n",
       "3  2020-03-21 08:30:21  \n",
       "4  2020-03-21 08:33:43  "
      ]
     },
     "execution_count": 33,
     "metadata": {},
     "output_type": "execute_result"
    }
   ],
   "source": [
    "df2.head()"
   ]
  },
  {
   "cell_type": "code",
   "execution_count": 34,
   "metadata": {},
   "outputs": [
    {
     "data": {
      "text/html": [
       "<div>\n",
       "<style scoped>\n",
       "    .dataframe tbody tr th:only-of-type {\n",
       "        vertical-align: middle;\n",
       "    }\n",
       "\n",
       "    .dataframe tbody tr th {\n",
       "        vertical-align: top;\n",
       "    }\n",
       "\n",
       "    .dataframe thead th {\n",
       "        text-align: right;\n",
       "    }\n",
       "</style>\n",
       "<table border=\"1\" class=\"dataframe\">\n",
       "  <thead>\n",
       "    <tr style=\"text-align: right;\">\n",
       "      <th></th>\n",
       "      <th>id</th>\n",
       "      <th>type</th>\n",
       "      <th>text</th>\n",
       "      <th>created</th>\n",
       "    </tr>\n",
       "  </thead>\n",
       "  <tbody>\n",
       "    <tr>\n",
       "      <th>0</th>\n",
       "      <td>fj83m8c</td>\n",
       "      <td>comment</td>\n",
       "      <td>The report (PDF) https://www.who.int/docs/defa...</td>\n",
       "      <td>2020-03-01 18:13:23</td>\n",
       "    </tr>\n",
       "    <tr>\n",
       "      <th>1</th>\n",
       "      <td>fjdvlek</td>\n",
       "      <td>comment</td>\n",
       "      <td>Within the fever clinics in Guangdong, the per...</td>\n",
       "      <td>2020-03-03 13:28:33</td>\n",
       "    </tr>\n",
       "    <tr>\n",
       "      <th>2</th>\n",
       "      <td>fji62i6</td>\n",
       "      <td>comment</td>\n",
       "      <td>Yeah I've said for a while that there's basica...</td>\n",
       "      <td>2020-03-04 17:33:29</td>\n",
       "    </tr>\n",
       "    <tr>\n",
       "      <th>3</th>\n",
       "      <td>fkcki9q</td>\n",
       "      <td>comment</td>\n",
       "      <td>&amp;gt; now risking a hundred people is a few hou...</td>\n",
       "      <td>2020-03-12 19:17:07</td>\n",
       "    </tr>\n",
       "    <tr>\n",
       "      <th>4</th>\n",
       "      <td>fkfiml1</td>\n",
       "      <td>comment</td>\n",
       "      <td>&amp;gt; strongly disagree with the \"and we now kn...</td>\n",
       "      <td>2020-03-13 17:33:41</td>\n",
       "    </tr>\n",
       "  </tbody>\n",
       "</table>\n",
       "</div>"
      ],
      "text/plain": [
       "        id     type                                               text  \\\n",
       "0  fj83m8c  comment  The report (PDF) https://www.who.int/docs/defa...   \n",
       "1  fjdvlek  comment  Within the fever clinics in Guangdong, the per...   \n",
       "2  fji62i6  comment  Yeah I've said for a while that there's basica...   \n",
       "3  fkcki9q  comment  &gt; now risking a hundred people is a few hou...   \n",
       "4  fkfiml1  comment  &gt; strongly disagree with the \"and we now kn...   \n",
       "\n",
       "               created  \n",
       "0  2020-03-01 18:13:23  \n",
       "1  2020-03-03 13:28:33  \n",
       "2  2020-03-04 17:33:29  \n",
       "3  2020-03-12 19:17:07  \n",
       "4  2020-03-13 17:33:41  "
      ]
     },
     "execution_count": 34,
     "metadata": {},
     "output_type": "execute_result"
    }
   ],
   "source": [
    "ndf.head()"
   ]
  },
  {
   "cell_type": "code",
   "execution_count": 35,
   "metadata": {},
   "outputs": [
    {
     "data": {
      "text/plain": [
       "934"
      ]
     },
     "execution_count": 35,
     "metadata": {},
     "output_type": "execute_result"
    }
   ],
   "source": [
    "len(ndf)"
   ]
  },
  {
   "cell_type": "code",
   "execution_count": null,
   "metadata": {},
   "outputs": [],
   "source": [
    "df = pd.read_csv('') "
   ]
  }
 ],
 "metadata": {
  "kernelspec": {
   "display_name": "Python 3",
   "language": "python",
   "name": "python3"
  },
  "language_info": {
   "codemirror_mode": {
    "name": "ipython",
    "version": 3
   },
   "file_extension": ".py",
   "mimetype": "text/x-python",
   "name": "python",
   "nbconvert_exporter": "python",
   "pygments_lexer": "ipython3",
   "version": "3.8.5"
  }
 },
 "nbformat": 4,
 "nbformat_minor": 5
}
