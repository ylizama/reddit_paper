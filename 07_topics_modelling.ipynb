{
 "cells": [
  {
   "cell_type": "markdown",
   "metadata": {},
   "source": [
    "## Topic Modelling"
   ]
  },
  {
   "cell_type": "code",
   "execution_count": 1,
   "metadata": {},
   "outputs": [
    {
     "data": {
      "text/html": [
       "<style>.container { width:100% !important; }</style>"
      ],
      "text/plain": [
       "<IPython.core.display.HTML object>"
      ]
     },
     "metadata": {},
     "output_type": "display_data"
    }
   ],
   "source": [
    "from IPython.core.display import display, HTML\n",
    "display(HTML(\"<style>.container { width:100% !important; }</style>\"))"
   ]
  },
  {
   "cell_type": "code",
   "execution_count": 2,
   "metadata": {},
   "outputs": [
    {
     "name": "stderr",
     "output_type": "stream",
     "text": [
      "C:\\Users\\dvaro\\anaconda3\\lib\\site-packages\\gensim\\similarities\\__init__.py:15: UserWarning: The gensim.similarities.levenshtein submodule is disabled, because the optional Levenshtein package <https://pypi.org/project/python-Levenshtein/> is unavailable. Install Levenhstein (e.g. `pip install python-Levenshtein`) to suppress this warning.\n",
      "  warnings.warn(msg)\n"
     ]
    }
   ],
   "source": [
    "import sys\n",
    "import os\n",
    "#!{sys.executable} -m spacy download en\n",
    "import re, numpy as np, pandas as pd\n",
    "from pprint import pprint\n",
    "import nltk\n",
    "\n",
    "# Gensim\n",
    "import gensim, spacy, logging, warnings\n",
    "import gensim.corpora as corpora\n",
    "import gensim.utils\n",
    "from gensim.models import CoherenceModel\n",
    "import matplotlib.pyplot as plt\n",
    "\n",
    "# NLTK Stop words\n",
    "from nltk.corpus import stopwords\n",
    "stop_words = stopwords.words('english')\n",
    "stop_words.extend(['from', 'subject', 're', 'edu', 'use', 'not', 'would', 'say', 'could', '_', 'be', 'know', 'good', 'go', 'get', 'do', 'done', 'try', 'many', 'some', 'nice', 'thank', 'think', 'see', 'rather', 'easy', 'easily', 'lot', 'lack', 'make', 'want', 'seem', 'run', 'need', 'even', 'right', 'line', 'even', 'also', 'may', 'take', 'come'])\n",
    "\n",
    "%matplotlib inline\n",
    "warnings.filterwarnings(\"ignore\",category=DeprecationWarning)\n",
    "logging.basicConfig(format='%(asctime)s : %(levelname)s : %(message)s', level=logging.ERROR)"
   ]
  },
  {
   "cell_type": "code",
   "execution_count": 3,
   "metadata": {},
   "outputs": [],
   "source": [
    "import re\n",
    "import numpy as np\n",
    "import pandas as pd\n",
    "from pprint import pprint\n",
    "\n",
    "# Gensim\n",
    "import gensim\n",
    "import gensim.corpora as corpora\n",
    "from gensim.utils import simple_preprocess\n",
    "from gensim.models import CoherenceModel\n",
    "\n",
    "# spacy for lemmatization\n",
    "import spacy\n",
    "\n",
    "# Plotting tools\n",
    "import pyLDAvis\n",
    "#import pyLDAvis.gensim  # don't skip this\n",
    "import matplotlib.pyplot as plt\n",
    "%matplotlib inline\n",
    "\n",
    "# Enable logging for gensim - optional\n",
    "import logging\n",
    "logging.basicConfig(format='%(asctime)s : %(levelname)s : %(message)s', level=logging.ERROR)\n",
    "\n",
    "import warnings\n",
    "warnings.filterwarnings(\"ignore\",category=DeprecationWarning)"
   ]
  },
  {
   "cell_type": "code",
   "execution_count": 4,
   "metadata": {},
   "outputs": [],
   "source": [
    "### from nltk.corpus import stopwords\n",
    "stop_words = stopwords.words('english')\n",
    "stop_words.extend(['from', 'subject', 're', 'edu', 'use', 'could', 'also'])"
   ]
  },
  {
   "cell_type": "markdown",
   "metadata": {},
   "source": [
    "## Loading data"
   ]
  },
  {
   "cell_type": "code",
   "execution_count": 5,
   "metadata": {},
   "outputs": [
    {
     "data": {
      "text/plain": [
       "Index(['id', 'type', 'text', 'created'], dtype='object')"
      ]
     },
     "execution_count": 5,
     "metadata": {},
     "output_type": "execute_result"
    }
   ],
   "source": [
    "df = pd.read_csv('transform_data.cv')\n",
    "df = df.fillna(\"\")\n",
    "df.columns"
   ]
  },
  {
   "cell_type": "code",
   "execution_count": 6,
   "metadata": {},
   "outputs": [
    {
     "data": {
      "text/plain": [
       "934"
      ]
     },
     "execution_count": 6,
     "metadata": {},
     "output_type": "execute_result"
    }
   ],
   "source": [
    "data = list(df['text'])\n",
    "len(data)"
   ]
  },
  {
   "cell_type": "markdown",
   "metadata": {},
   "source": [
    "## Tokenizing and cleaning data"
   ]
  },
  {
   "cell_type": "code",
   "execution_count": 7,
   "metadata": {},
   "outputs": [],
   "source": [
    "from gensim.utils import simple_preprocess\n",
    "def clean_text(texts):\n",
    "    for sent in texts:\n",
    "        sent = re.sub('\\S*@\\S*\\s?', '', sent)  # remove emails\n",
    "        sent = re.sub('\\s+', ' ', sent)  # remove newline chars\n",
    "        sent = re.sub(\"\\'\", \"\", sent)  # remove single quotes\n",
    "        sent = gensim.utils.simple_preprocess(str(sent), deacc=True) \n",
    "        yield(sent)  \n",
    "\n",
    "data_0  = list(clean_text(data))"
   ]
  },
  {
   "cell_type": "markdown",
   "metadata": {},
   "source": [
    "## Bigrams-Trigrams Models"
   ]
  },
  {
   "cell_type": "code",
   "execution_count": 8,
   "metadata": {},
   "outputs": [
    {
     "name": "stdout",
     "output_type": "stream",
     "text": [
      "lowest_frequency_unigrams 923\n",
      "[['the', 'report', 'pdf', 'https', 'www', 'who', 'int', 'docs', 'default', 'source', 'coronaviruse', 'who', 'china', 'joint', 'mission', 'on', 'covid', 'final', 'report', 'pdf', 'wuhan', 'yeah', 'its', 'still', 'in', 'lockdown', 'my', 'take', 'is', 'that', 'they', 'need', 'intensive', 'care', 'to', 'make', 'patients', 'alive', 'and', 'recover', 'and', 'they', 'need', 'more', 'facilities', 'to', 'keep', 'motility', 'low', 'who', 'advisor', 'on', 'press', 'conference', 'was', 'saying', 'that', 'what', 'china', 'is', 'doing', 'while', 'the', 'lockdown', 'is', 'going', 'on', 'is', 'to', 'build', 'more', 'hospitals', 'and', 'containment', 'facilities', 'welp']]\n"
     ]
    }
   ],
   "source": [
    "xx= pd.Series(nltk.ngrams(data_0, 1)).value_counts()\n",
    "as_dataframe= xx.to_frame(\"count\")\n",
    "reqd_Index = as_dataframe[as_dataframe['count']<=100].index.tolist()\n",
    "lowest_frequency_unigrams =[]\n",
    "for element in reqd_Index:\n",
    "    lowest_frequency_unigrams.append(element)\n",
    "lowest_frequency_unigrams.append(\"1\")\n",
    "lowest_frequency_unigrams.append(\"\\ufeff1\")\n",
    "\n",
    "print (\"lowest_frequency_unigrams\",len(lowest_frequency_unigrams))\n",
    "\n",
    "data =[]\n",
    "for text in data_0:\n",
    "    temporal_variable=[]\n",
    "    for word in text:\n",
    "        if word not in lowest_frequency_unigrams:\n",
    "            temporal_variable.append(word)\n",
    "    temporal_variable= \" \".join(temporal_variable)\n",
    "    data.append(temporal_variable)\n",
    "    \n",
    "#12\n",
    "def sent_to_words(sentences):\n",
    "    for sentence in sentences:\n",
    "        yield(gensim.utils.simple_preprocess(str(sentence), deacc=True))  # deacc=True removes punctuations\n",
    "\n",
    "data_words = list(sent_to_words(data))\n",
    "\n",
    "print(data_words[:1])"
   ]
  },
  {
   "cell_type": "code",
   "execution_count": 9,
   "metadata": {},
   "outputs": [
    {
     "name": "stdout",
     "output_type": "stream",
     "text": [
      "['the', 'report', 'pdf_https_www', 'who', 'int', 'docs', 'default', 'source', 'coronaviruse', 'who', 'china', 'joint', 'mission', 'on', 'covid', 'final', 'report', 'pdf', 'wuhan', 'yeah', 'its', 'still', 'in', 'lockdown', 'my', 'take', 'is', 'that', 'they', 'need', 'intensive_care', 'to', 'make', 'patients', 'alive', 'and', 'recover', 'and', 'they', 'need', 'more', 'facilities', 'to', 'keep', 'motility', 'low', 'who', 'advisor', 'on', 'press', 'conference', 'was', 'saying', 'that', 'what', 'china', 'is', 'doing', 'while', 'the', 'lockdown', 'is', 'going', 'on', 'is', 'to', 'build', 'more', 'hospitals', 'and', 'containment', 'facilities', 'welp']\n"
     ]
    }
   ],
   "source": [
    "bigram = gensim.models.Phrases(data_words, min_count=50, threshold=100) # higher threshold fewer phrases.\n",
    "trigram = gensim.models.Phrases(bigram[data_words], threshold=100)  \n",
    "\n",
    "# Faster way to get a sentence clubbed as a trigram/bigram\n",
    "bigram_mod = gensim.models.phrases.Phraser(bigram)\n",
    "trigram_mod = gensim.models.phrases.Phraser(trigram)\n",
    "\n",
    "# See trigram example\n",
    "print(trigram_mod[bigram_mod[data_words[0]]])"
   ]
  },
  {
   "cell_type": "code",
   "execution_count": 10,
   "metadata": {},
   "outputs": [],
   "source": [
    "# Define functions for stopwords, bigrams, trigrams and lemmatization\n",
    "def remove_stopwords(texts):\n",
    "    return [[word for word in simple_preprocess(str(doc)) if word not in stop_words] for doc in texts]\n",
    "\n",
    "def make_bigrams(texts):\n",
    "    return [bigram_mod[doc] for doc in texts]\n",
    "\n",
    "def make_trigrams(texts):\n",
    "    return [trigram_mod[bigram_mod[doc]] for doc in texts]\n",
    "\n",
    "def lemmatization(texts, allowed_postags=['NOUN', 'ADJ', 'VERB', 'ADV']):\n",
    "    \"\"\"https://spacy.io/api/annotation\"\"\"\n",
    "    texts_out = []\n",
    "    for sent in texts:\n",
    "        doc = nlp(\" \".join(sent)) \n",
    "        texts_out.append([token.lemma_ for token in doc if token.pos_ in allowed_postags])\n",
    "    return texts_out"
   ]
  },
  {
   "cell_type": "code",
   "execution_count": 11,
   "metadata": {},
   "outputs": [
    {
     "name": "stdout",
     "output_type": "stream",
     "text": [
      "[['report', 'int', 'default', 'source', 'coronaviruse', 'mission', 'report', 'still', 'lockdown', 'take', 'need', 'intensive', 'care', 'make', 'patient', 'alive', 'recover', 'need', 'more', 'facility', 'keep', 'motility', 'low', 'advisor', 'press', 'conference', 'say', 'do', 'lockdown', 'go', 'build', 'more', 'hospital', 'containment', 'facility', 'welp']]\n"
     ]
    }
   ],
   "source": [
    "# Form Bigrams\n",
    "data_words_bigrams = make_bigrams(data_words)\n",
    "\n",
    "# Initialize spacy 'en' model, keeping only tagger component (for efficiency)\n",
    "# python3 -m spacy download en\n",
    "\n",
    "nlp = spacy.load(\"en_core_web_sm\")\n",
    "\n",
    "\n",
    "# Do lemmatization keeping only noun, adj, vb, adv\n",
    "data_lemmatized = lemmatization(data_words_bigrams, allowed_postags=['NOUN', 'ADJ', 'VERB', 'ADV'])\n",
    "\n",
    "print(data_lemmatized[:1])"
   ]
  },
  {
   "cell_type": "code",
   "execution_count": 12,
   "metadata": {},
   "outputs": [
    {
     "name": "stdout",
     "output_type": "stream",
     "text": [
      "['the', 'report', 'pdf_https_www', 'who', 'int', 'docs', 'default', 'source', 'coronaviruse', 'who', 'china', 'joint', 'mission', 'on', 'covid', 'final', 'report', 'pdf', 'wuhan', 'yeah', 'its', 'still', 'in', 'lockdown', 'my', 'take', 'is', 'that', 'they', 'need', 'intensive_care', 'to', 'make', 'patients', 'alive', 'and', 'recover', 'and', 'they', 'need', 'more', 'facilities', 'to', 'keep', 'motility', 'low', 'who', 'advisor', 'on', 'press', 'conference', 'was', 'saying', 'that', 'what', 'china', 'is', 'doing', 'while', 'the', 'lockdown', 'is', 'going', 'on', 'is', 'to', 'build', 'more', 'hospitals', 'and', 'containment', 'facilities', 'welp']\n"
     ]
    }
   ],
   "source": [
    "# Build the bigram and trigram models\n",
    "bigram = gensim.models.Phrases(data_words, min_count=50, threshold=100) # higher threshold fewer phrases.\n",
    "trigram = gensim.models.Phrases(bigram[data_words], threshold=100)  \n",
    "\n",
    "# Faster way to get a sentence clubbed as a trigram/bigram\n",
    "bigram_mod = gensim.models.phrases.Phraser(bigram)\n",
    "trigram_mod = gensim.models.phrases.Phraser(trigram)\n",
    "\n",
    "# See trigram example\n",
    "print(trigram_mod[bigram_mod[data_words[0]]])"
   ]
  },
  {
   "cell_type": "code",
   "execution_count": 13,
   "metadata": {},
   "outputs": [
    {
     "name": "stdout",
     "output_type": "stream",
     "text": [
      "[[(0, 1), (1, 1), (2, 1), (3, 1), (4, 1), (5, 1), (6, 1), (7, 1), (8, 1), (9, 2), (10, 1), (11, 1), (12, 1), (13, 1), (14, 1), (15, 2), (16, 1), (17, 1), (18, 1), (19, 2), (20, 1), (21, 2), (22, 1), (23, 1), (24, 1), (25, 2), (26, 1), (27, 1), (28, 1), (29, 1), (30, 1)]]\n"
     ]
    }
   ],
   "source": [
    "# Create Dictionary\n",
    "id2word = corpora.Dictionary(data_lemmatized)\n",
    "\n",
    "# Create Corpus\n",
    "texts = data_lemmatized\n",
    "\n",
    "# Term Document Frequency\n",
    "corpus = [id2word.doc2bow(text) for text in texts]\n",
    "\n",
    "# View\n",
    "print(corpus[:1])"
   ]
  },
  {
   "cell_type": "code",
   "execution_count": 14,
   "metadata": {},
   "outputs": [],
   "source": [
    "#12.0\n",
    "def compute_coherence_values(dictionary, corpus, texts, limit, start=2, step=3):\n",
    "    \"\"\"\n",
    "    Compute c_v coherence for various number of topics\n",
    "\n",
    "    Parameters:\n",
    "    ----------\n",
    "    dictionary : Gensim dictionary\n",
    "    corpus : Gensim corpus\n",
    "    texts : List of input texts\n",
    "    limit : Max num of topics\n",
    "\n",
    "    Returns:\n",
    "    -------\n",
    "    model_list : List of LDA topic models\n",
    "    coherence_values : Coherence values corresponding to the LDA model with respective number of topics\n",
    "    \"\"\"\n",
    "    coherence_values = []\n",
    "    model_list = []\n",
    "    for num_topics in range(start, limit, step):\n",
    "        model = gensim.models.ldamodel.LdaModel(corpus=corpus,\n",
    "                                           id2word=id2word,\n",
    "                                           num_topics=num_topics, \n",
    "                                           random_state=100,\n",
    "                                           update_every=1,\n",
    "                                           chunksize=100,\n",
    "                                           passes=10,\n",
    "                                           alpha='auto',\n",
    "                                           per_word_topics=True)\n",
    "        #model = gensim.models.wrappers.LdaMallet(mallet_path, corpus=corpus, num_topics=num_topics, id2word=id2word)\n",
    "        model_list.append(model)\n",
    "        coherencemodel = CoherenceModel(model=model, texts=texts, dictionary=dictionary, coherence='c_v')\n",
    "        coherence_values.append(coherencemodel.get_coherence())\n",
    "\n",
    "    return model_list, coherence_values"
   ]
  },
  {
   "cell_type": "code",
   "execution_count": 15,
   "metadata": {},
   "outputs": [],
   "source": [
    "model_list, coherence_values = compute_coherence_values(dictionary=id2word, corpus=corpus, texts=data_lemmatized, start=2, limit=40, step=6)"
   ]
  },
  {
   "cell_type": "code",
   "execution_count": 16,
   "metadata": {},
   "outputs": [
    {
     "data": {
      "image/png": "[encoded data removed]",
      "text/plain": [
       "<Figure size 432x288 with 1 Axes>"
      ]
     },
     "metadata": {
      "needs_background": "light"
     },
     "output_type": "display_data"
    }
   ],
   "source": [
    "limit=40; start=2; step=6;\n",
    "x = range(start, limit, step)\n",
    "plt.plot(x, coherence_values)\n",
    "plt.xlabel(\"Num Topics\")\n",
    "plt.ylabel(\"Coherence score\")\n",
    "plt.legend((\"coherence_values\"), loc='best')\n",
    "plt.show()"
   ]
  },
  {
   "cell_type": "code",
   "execution_count": 17,
   "metadata": {},
   "outputs": [
    {
     "name": "stdout",
     "output_type": "stream",
     "text": [
      "num topics=  2 has Coherence Value of 0.4061\n",
      "num topics=  8 has Coherence Value of 0.4284\n",
      "num topics=  14 has Coherence Value of 0.4417\n",
      "num topics=  20 has Coherence Value of 0.4325\n",
      "num topics=  26 has Coherence Value of 0.4058\n",
      "num topics=  32 has Coherence Value of 0.4015\n",
      "num topics=  38 has Coherence Value of 0.426\n"
     ]
    }
   ],
   "source": [
    "for m, cv in zip (x,coherence_values):\n",
    "    print (\"num topics= \", m, \"has Coherence Value of\", round (cv,4))"
   ]
  },
  {
   "cell_type": "code",
   "execution_count": 18,
   "metadata": {},
   "outputs": [
    {
     "name": "stdout",
     "output_type": "stream",
     "text": [
      "[(0, '0.076*\"death\" + 0.037*\"covid\" + 0.027*\"lockdown\" + 0.022*\"mortality\" + 0.020*\"year\" + 0.018*\"cause\" + 0.018*\"excess\" + 0.015*\"impact\" + 0.013*\"health\" + 0.013*\"care\"'), (1, '0.025*\"people\" + 0.014*\"so\" + 0.014*\"go\" + 0.012*\"more\" + 0.012*\"think\" + 0.011*\"just\" + 0.011*\"be\" + 0.010*\"say\" + 0.010*\"how\" + 0.010*\"see\"'), (2, '0.026*\"variant\" + 0.019*\"cohort\" + 0.016*\"com\" + 0.014*\"patient\" + 0.011*\"introduction\" + 0.010*\"acute\" + 0.010*\"severe\" + 0.010*\"article\" + 0.009*\"individual\" + 0.009*\"clinical\"'), (3, '0.021*\"test\" + 0.015*\"infection\" + 0.014*\"prevalence\" + 0.014*\"study\" + 0.014*\"case\" + 0.014*\"positive\" + 0.013*\"child\" + 0.012*\"contact\" + 0.010*\"result\" + 0.010*\"transmission\"'), (4, '0.043*\"mask\" + 0.043*\"yoga\" + 0.027*\"minute\" + 0.026*\"rat\" + 0.021*\"bodsphere\" + 0.020*\"wear\" + 0.017*\"behavior\" + 0.015*\"pcr\" + 0.012*\"correlate\" + 0.009*\"pest\"'), (5, '0.024*\"lockdown\" + 0.018*\"country\" + 0.009*\"measure\" + 0.009*\"datum\" + 0.009*\"more\" + 0.008*\"number\" + 0.008*\"rate\" + 0.008*\"effect\" + 0.008*\"use\" + 0.007*\"most\"'), (6, '0.029*\"lockdown\" + 0.023*\"case\" + 0.020*\"covid\" + 0.014*\"day\" + 0.012*\"wave\" + 0.012*\"number\" + 0.011*\"vaccine\" + 0.008*\"virus\" + 0.008*\"hospital\" + 0.008*\"month\"'), (7, '0.052*\"round\" + 0.025*\"vitamin\" + 0.012*\"body\" + 0.010*\"door\" + 0.010*\"survive\" + 0.009*\"mutate\" + 0.009*\"outdoor\" + 0.008*\"overdose\" + 0.008*\"version\" + 0.007*\"additionally\"')]\n"
     ]
    }
   ],
   "source": [
    "optimal_model = model_list[1]\n",
    "model_topics = optimal_model.show_topics(formatted=False)\n",
    "print(optimal_model.print_topics(num_words=10))"
   ]
  },
  {
   "cell_type": "code",
   "execution_count": 19,
   "metadata": {},
   "outputs": [
    {
     "name": "stdout",
     "output_type": "stream",
     "text": [
      "[(0, '0.076*\"death\" + 0.037*\"covid\" + 0.027*\"lockdown\" + 0.022*\"mortality\" + 0.020*\"year\" + 0.018*\"cause\" + 0.018*\"excess\" + 0.015*\"impact\" + 0.013*\"health\" + 0.013*\"care\"'), (1, '0.025*\"people\" + 0.014*\"so\" + 0.014*\"go\" + 0.012*\"more\" + 0.012*\"think\" + 0.011*\"just\" + 0.011*\"be\" + 0.010*\"say\" + 0.010*\"how\" + 0.010*\"see\"'), (2, '0.026*\"variant\" + 0.019*\"cohort\" + 0.016*\"com\" + 0.014*\"patient\" + 0.011*\"introduction\" + 0.010*\"acute\" + 0.010*\"severe\" + 0.010*\"article\" + 0.009*\"individual\" + 0.009*\"clinical\"'), (3, '0.021*\"test\" + 0.015*\"infection\" + 0.014*\"prevalence\" + 0.014*\"study\" + 0.014*\"case\" + 0.014*\"positive\" + 0.013*\"child\" + 0.012*\"contact\" + 0.010*\"result\" + 0.010*\"transmission\"'), (4, '0.043*\"mask\" + 0.043*\"yoga\" + 0.027*\"minute\" + 0.026*\"rat\" + 0.021*\"bodsphere\" + 0.020*\"wear\" + 0.017*\"behavior\" + 0.015*\"pcr\" + 0.012*\"correlate\" + 0.009*\"pest\"'), (5, '0.024*\"lockdown\" + 0.018*\"country\" + 0.009*\"measure\" + 0.009*\"datum\" + 0.009*\"more\" + 0.008*\"number\" + 0.008*\"rate\" + 0.008*\"effect\" + 0.008*\"use\" + 0.007*\"most\"'), (6, '0.029*\"lockdown\" + 0.023*\"case\" + 0.020*\"covid\" + 0.014*\"day\" + 0.012*\"wave\" + 0.012*\"number\" + 0.011*\"vaccine\" + 0.008*\"virus\" + 0.008*\"hospital\" + 0.008*\"month\"'), (7, '0.052*\"round\" + 0.025*\"vitamin\" + 0.012*\"body\" + 0.010*\"door\" + 0.010*\"survive\" + 0.009*\"mutate\" + 0.009*\"outdoor\" + 0.008*\"overdose\" + 0.008*\"version\" + 0.007*\"additionally\"')]\n"
     ]
    }
   ],
   "source": [
    "print(optimal_model.print_topics())\n",
    "doc_lda = optimal_model[corpus]"
   ]
  },
  {
   "cell_type": "code",
   "execution_count": 20,
   "metadata": {},
   "outputs": [
    {
     "data": {
      "text/html": [
       "\n",
       "<link rel=\"stylesheet\" type=\"text/css\" href=\"https://cdn.jsdelivr.net/gh/bmabey/pyLDAvis@3.3.1/pyLDAvis/js/ldavis.v1.0.0.css\">\n",
       "\n",
       "\n",
       "<div id=\"ldavis_el1598821799694572801518052454\"></div>\n",
       "<script type=\"text/javascript\">\n",
       "\n",
       "var ldavis_el1598821799694572801518052454_data = {\"mdsDat\": {\"x\": [-0.05744671571164975, -0.2836908930238636, -0.06610053212078983, 0.29189488429671245, -0.27589510560502534, 0.1839976226440747, 0.180344316130236, 0.02689642339030524], \"y\": [0.3558506979274137, 0.09917402632497688, 0.16247379144264004, 0.16413888805824242, -0.18404373555272435, -0.2705981293223987, -0.11007047718620239, -0.21692506169194758], \"topics\": [1, 2, 3, 4, 5, 6, 7, 8], \"cluster\": [1, 1, 1, 1, 1, 1, 1, 1], \"Freq\": [27.132579542970614, 26.958794034847987, 16.894713024608933, 14.187394852434169, 11.113689920515267, 2.0526104799251566, 0.9497363542779061, 0.7104817904199752]}, \"tinfo\": {\"Term\": [\"death\", \"covid\", \"lockdown\", \"case\", \"country\", \"test\", \"mortality\", \"people\", \"year\", \"go\", \"cause\", \"excess\", \"mask\", \"impact\", \"think\", \"patient\", \"study\", \"prevalence\", \"positive\", \"com\", \"infection\", \"child\", \"so\", \"wave\", \"be\", \"just\", \"have\", \"number\", \"vaccine\", \"contact\", \"think\", \"really\", \"s\", \"try\", \"problem\", \"probably\", \"be\", \"science\", \"actually\", \"never\", \"agree\", \"maybe\", \"wrong\", \"benefit\", \"feel\", \"kid\", \"sure\", \"past\", \"quite\", \"talk\", \"comment\", \"pretty\", \"let\", \"want\", \"idea\", \"hear\", \"chance\", \"swedish\", \"word\", \"opinion\", \"have\", \"go\", \"fear\", \"lot\", \"get\", \"thing\", \"just\", \"so\", \"too\", \"bad\", \"know\", \"good\", \"people\", \"why\", \"say\", \"do\", \"long\", \"see\", \"how\", \"much\", \"come\", \"make\", \"work\", \"point\", \"now\", \"more\", \"way\", \"many\", \"even\", \"risk\", \"need\", \"take\", \"when\", \"other\", \"country\", \"intervention\", \"rather\", \"mitigation\", \"discussion\", \"vaccination\", \"growth\", \"strong\", \"primary\", \"reproduction\", \"different\", \"major\", \"set\", \"correlation\", \"therefore\", \"reach\", \"author\", \"drive\", \"initial\", \"play\", \"surge\", \"contain\", \"pattern\", \"extreme\", \"discuss\", \"nation\", \"react\", \"exist\", \"combination\", \"variable\", \"outcome\", \"effect\", \"affect\", \"method\", \"strict\", \"reopen\", \"explain\", \"early\", \"epidemic\", \"such\", \"occur\", \"immunity\", \"strategy\", \"policy\", \"measure\", \"large\", \"area\", \"datum\", \"paper\", \"change\", \"control\", \"however\", \"most\", \"use\", \"suggest\", \"lockdown\", \"rate\", \"number\", \"where\", \"school\", \"spread\", \"more\", \"response\", \"time\", \"study\", \"population\", \"virus\", \"other\", \"low\", \"model\", \"result\", \"covid\", \"case\", \"wave\", \"infectious\", \"trial\", \"vulnerable\", \"decline\", \"apply\", \"social_distancing\", \"vaccinate\", \"rule\", \"summer\", \"context\", \"generally\", \"admit\", \"unlikely\", \"bring\", \"at\", \"enter\", \"around\", \"today\", \"category\", \"active\", \"effectiveness\", \"recover\", \"bed\", \"dose\", \"flatten\", \"stringent\", \"hospitalisation\", \"modelling\", \"practice\", \"news\", \"vaccine\", \"daily\", \"update\", \"peak\", \"continue\", \"late\", \"day\", \"case\", \"mean\", \"new\", \"hospital\", \"patient\", \"month\", \"infect\", \"lockdown\", \"number\", \"covid\", \"end\", \"model\", \"second\", \"then\", \"only\", \"virus\", \"population\", \"spread\", \"com\", \"level\", \"infection\", \"people\", \"time\", \"more\", \"report\", \"reduce\", \"prevalence\", \"antibody\", \"sample\", \"household\", \"seroprevalence\", \"lineage\", \"participant\", \"blood\", \"proportion\", \"nationwide\", \"regional\", \"contribute\", \"igg\", \"dynamic\", \"collect\", \"surveillance\", \"network\", \"survey\", \"threshold\", \"finding\", \"member\", \"conduct\", \"induce\", \"adolescent\", \"respectively\", \"swab\", \"sex\", \"interval\", \"resident\", \"cross\", \"positive\", \"child\", \"contact\", \"test\", \"national\", \"adult\", \"confirm\", \"transmission\", \"study\", \"infection\", \"result\", \"first\", \"observe\", \"age\", \"increase\", \"include\", \"asymptomatic\", \"case\", \"high\", \"report\", \"period\", \"viral\", \"group\", \"estimate\", \"symptom\", \"population\", \"rate\", \"health\", \"pandemic\", \"covid\", \"excess\", \"associate\", \"mortality\", \"mental\", \"suicide\", \"call\", \"damage\", \"political\", \"decision\", \"global\", \"adjust\", \"male\", \"anxiety\", \"poverty\", \"avoidance\", \"psychological\", \"morbidity\", \"mainly\", \"indirect\", \"addition\", \"accident\", \"decade\", \"qeio\", \"drug\", \"comorbiditie\", \"harm\", \"season\", \"forever\", \"car\", \"sudden\", \"lose\", \"death\", \"depression\", \"emergency\", \"cause\", \"due\", \"die\", \"cancer\", \"relate\", \"year\", \"care\", \"life\", \"impact\", \"heart\", \"covid\", \"activity\", \"health\", \"live\", \"lockdown\", \"flu\", \"pandemic\", \"factor\", \"non\", \"compare\", \"home\", \"other\", \"increase\", \"age\", \"hospital\", \"people\", \"cohort\", \"introduction\", \"laboratory\", \"target\", \"zinc\", \"enrol\", \"thelancet\", \"socio\", \"asian\", \"indoor\", \"spreader\", \"investigation\", \"exceed\", \"variant\", \"tracker\", \"dominant\", \"birth\", \"fold\", \"hypertension\", \"diabetes\", \"opd\", \"ideal\", \"epilepsy\", \"ophthalmic\", \"uvb\", \"selection\", \"traditional\", \"environmental\", \"speculative\", \"diversity\", \"index\", \"acute\", \"super\", \"clinical\", \"syndrome\", \"com\", \"event\", \"patient\", \"severe\", \"article\", \"individual\", \"respiratory\", \"cluster\", \"viral\", \"disease\", \"yoga\", \"minute\", \"rat\", \"bodsphere\", \"behavior\", \"pcr\", \"correlate\", \"pest\", \"notice\", \"sighting\", \"usage\", \"establishment\", \"upload\", \"rodent\", \"th\", \"advice\", \"client\", \"declaration\", \"pronounced\", \"negatively\", \"bacteria\", \"clientele\", \"fat\", \"qualify\", \"teacher\", \"hazard\", \"sneeze\", \"localize\", \"violate\", \"specialist\", \"restaurant\", \"wear\", \"mask\", \"recommend\", \"alter\", \"request\", \"instead\", \"vitamin\", \"body\", \"door\", \"survive\", \"mutate\", \"outdoor\", \"overdose\", \"version\", \"additionally\", \"cognitive\", \"commence\", \"supplement\", \"round\", \"tyranny\", \"deprive\", \"supplementation\", \"slip\", \"jump\", \"sun\", \"compute\", \"humber\", \"hyper\", \"deficiency\", \"dark\", \"blogger\", \"sit\", \"communicate\", \"storm\", \"virulent\", \"neighbour\", \"midland\", \"dangerous\"], \"Freq\": [832.0, 957.0, 1407.0, 644.0, 427.0, 333.0, 221.0, 763.0, 302.0, 347.0, 223.0, 175.0, 83.0, 251.0, 283.0, 173.0, 346.0, 178.0, 189.0, 142.0, 380.0, 182.0, 383.0, 177.0, 260.0, 282.0, 240.0, 403.0, 192.0, 164.0, 282.9469362620466, 132.73975036408004, 201.418975392193, 84.59084614314521, 85.05761022589189, 89.30444196284357, 257.37821306926884, 65.91304609331463, 111.74542582192586, 63.05764413834537, 62.49977164451689, 58.30049240167631, 53.80143600400859, 53.67160934065852, 52.12108417714394, 51.87523823418023, 48.39710972497859, 41.17488557827696, 44.78544021943482, 40.592725975484456, 42.46227169985948, 57.30834777145721, 80.39634811617738, 71.13181942434777, 41.918164253145186, 34.484564641315714, 34.366171688414596, 34.17847650733187, 34.12613150758209, 33.99609880600373, 234.30730543017165, 336.2384699876774, 67.22286215736516, 131.43712588092902, 215.3120710315943, 155.0178229007447, 263.9032913471472, 347.6802639090432, 71.58783000504297, 141.55171749870706, 190.65883495834842, 168.2062565096526, 611.069012884014, 114.32616470638666, 252.2623459547178, 152.16961817155791, 172.46311920363604, 240.3725515415864, 244.86292046436844, 208.58693810137768, 106.48217081311552, 224.86736764503624, 177.73697530265775, 140.4390546171499, 164.34470496982397, 298.7147878528011, 120.73035217065119, 155.02640312285402, 168.5065981527764, 160.16481589997383, 152.47413702807702, 153.9510416279405, 155.0034848980094, 167.80613591521023, 424.6833121873774, 109.69872868144499, 66.06637567781071, 58.518021593467346, 57.69881650542448, 52.8539138076945, 52.00941335991979, 65.66216592500484, 47.6763070204006, 47.06680102540744, 122.71372409256365, 45.389076475920305, 44.27818111606057, 42.588176258339985, 41.56953885241131, 38.80174975593452, 38.047619925383614, 36.23850813656205, 35.74782022321839, 35.08633534877626, 34.16781652796804, 34.01826262118983, 33.700006612927304, 32.61649866804996, 30.870081232018315, 30.48712014225991, 30.452278728811084, 28.916163324004568, 28.64974036828347, 28.119850256082664, 70.09544413255301, 193.30891142854614, 56.95415701077318, 69.04418356478836, 58.63734165620243, 46.313038566489, 67.70271623355474, 117.15071922353718, 153.19772858685658, 115.76897562218508, 71.34078348807842, 104.25965424892293, 106.31466946495584, 129.24496354041673, 227.06483424742615, 146.8315988507077, 109.02775664492162, 210.93626609840544, 107.13232093556063, 123.9693610712526, 113.10172296100613, 96.05159606102764, 173.169890190404, 183.45413093083508, 108.41199691908567, 576.4615280038278, 195.33433499980185, 201.5956264068803, 119.06798409921223, 108.71862603583509, 151.1323708778424, 210.60357883502317, 91.1638539048427, 152.67822583745476, 154.49932347633109, 145.33366485640553, 137.23146578593347, 138.42074030423504, 121.79802085281649, 118.76273472935726, 120.98026842512186, 118.82542908214718, 114.38581862157523, 176.8767742997012, 61.93673863326731, 54.918102554578226, 50.949669991931444, 50.50597891030499, 47.04963413657026, 44.567022412972925, 40.72855378741876, 40.496499179525465, 36.04582044597653, 34.18096184940831, 33.126688064868205, 33.10461089140293, 32.397353999826784, 31.522832906102536, 29.992119588228284, 32.8901238225925, 28.562860741760154, 28.30796622411087, 28.026999833482964, 27.68113583223952, 26.797150833157005, 26.34313293483879, 26.19540110857773, 35.091739278794776, 25.536201875687155, 25.501159942736653, 25.277599123997767, 24.802300180185913, 24.830078543805737, 44.32830704346258, 167.25205460607768, 62.87184629585337, 44.47506172369222, 107.71308470753571, 63.59338779703991, 59.450140997441096, 204.53695245851503, 353.59082215094696, 109.68708137703769, 115.0836550435699, 121.22302138001514, 109.36815918993393, 117.44578958237247, 92.97505824907826, 432.870883516919, 176.84356539428805, 298.4557158492903, 70.66202000936538, 107.86166714293203, 82.79334422806275, 94.19713050266135, 104.33660931967131, 124.51077331419214, 111.76975215085419, 97.81332301046399, 68.5781893140008, 66.62796049149327, 80.98251688615275, 93.76131634282055, 70.69844857580291, 69.15002360738073, 65.7322550124044, 64.34883415656844, 177.89277433615487, 118.9110972261658, 85.51159800921631, 59.03959460696006, 53.887953974337655, 48.32628627137458, 46.71722061133712, 42.14474609344063, 40.912893885670954, 40.7761522751229, 38.66402023060646, 37.468405567955145, 36.18093520732521, 36.05507932345278, 35.6050985664849, 34.67453718041084, 33.93652151240358, 33.84074600829014, 33.627190365473595, 52.66727675604571, 31.104437966706016, 30.38485247151941, 28.719702296144806, 27.089133783929512, 26.870882048070417, 26.53888804609288, 25.70816660166813, 25.472768665630444, 25.447301732399097, 24.518589562095713, 175.2829626889336, 168.96795429277353, 148.84157982044437, 271.04758107569614, 71.43966518156407, 39.190564128636915, 67.22138706153828, 128.1207289665058, 177.1886850625103, 188.61593531697983, 128.3060460661809, 117.2788639770077, 47.44089120568833, 97.84839677334895, 116.06449150713742, 82.75972290622026, 55.37648854739064, 175.39742811205736, 116.78989177497884, 89.28860277295023, 77.46081799070747, 48.6174676533023, 67.84159012256872, 69.25928482571533, 57.08826316380863, 74.33313147453552, 71.86004667955606, 63.487653651672204, 60.8578769677823, 62.66073985025492, 174.2011521159145, 80.6357781859285, 218.54877782487927, 70.61902849069413, 56.322340897854076, 44.373304809172744, 40.35966560859167, 35.63483602818201, 31.95369100093157, 28.62632147587134, 28.36552808567144, 23.64498297966169, 22.670213029572817, 22.425431504035295, 21.295414676108724, 21.097385483202725, 19.717178934584076, 19.485935238302616, 17.61743733905142, 17.214657438355157, 16.537162495887557, 15.581369784674711, 15.635007797156712, 15.34144846701016, 15.209302605756116, 25.11961675440985, 14.415366146408031, 14.288018064096146, 13.769773543677497, 13.791730029862903, 45.2627228499263, 755.0588103133565, 19.770349886176287, 38.86448809124059, 179.00923414383806, 69.75155306303024, 104.97031645261794, 26.97495833453773, 57.59713041633739, 203.5385691721269, 130.37071541600116, 100.16836633300987, 148.3671819158482, 38.791295950318194, 370.1693024269385, 42.4019009101145, 131.10061597761285, 67.03632001424101, 265.9276934496989, 50.348373152977615, 83.71751992661129, 55.73167072505246, 52.45542818214595, 59.473582223810766, 58.09515143144637, 69.68096675192366, 59.29708407548759, 53.00174144351319, 48.61866170347294, 47.43192472362827, 34.691756258269244, 19.614623164342394, 15.126256567657725, 14.308676477532932, 12.159598807082451, 11.240987456880939, 10.219657177361238, 9.916077423548892, 9.011148493007449, 8.857410878396232, 8.822422488646266, 8.36984955475527, 7.956092159334386, 47.79279777899597, 7.681750250230103, 7.13918679527273, 6.713326180812967, 6.38748729958609, 6.299870703953246, 5.9596183074839635, 5.9587437258527585, 5.814803731536829, 5.447541794535083, 5.447541794535083, 5.390813133172304, 4.954894402911864, 4.927032913964237, 4.79961046989899, 4.670815086407804, 4.593907845339105, 11.239234877284032, 18.716525194627497, 9.292060867432888, 16.435737580318165, 8.359035147905344, 28.718971824676053, 15.775652218667549, 26.405320780673822, 18.34167130829002, 17.84180691004211, 16.609763951422824, 11.57596247063614, 9.469658162170429, 9.73299691194383, 12.00025327939458, 36.093498115002404, 22.658776533000736, 22.468314721275135, 18.078196042997668, 14.576196256109816, 12.867520331534285, 10.058605371090957, 7.900777688375818, 6.493197876893378, 5.288462503098465, 5.049947772208623, 4.6091940221215095, 2.8816560710839014, 2.676074406782304, 2.6378994514447145, 2.361463076739642, 2.2405558273542394, 2.2256760477108997, 1.997270066808486, 1.988999504880734, 1.9447488272334605, 1.8046782252770903, 1.7821931722362505, 1.7465396742596766, 1.7415196800810095, 1.6214065484868403, 1.5716613621359816, 1.4959039277476924, 1.4900588928033394, 1.4882122083353468, 6.980614296635125, 17.031272562087022, 36.63602263426514, 4.683157430014278, 2.274147266791548, 1.7825535780215722, 1.8408494113882823, 16.05330723266495, 7.667737141172604, 6.653216404751895, 6.436856888029367, 6.007814886140801, 5.9922565313607015, 5.1160226903606185, 5.0589261180263225, 4.651187721864053, 3.913751918555151, 3.649699487383868, 3.343905741642847, 33.25828037857731, 3.2093210062304145, 3.1904876751210995, 3.1296927859535777, 2.7514206035177815, 2.548283678082202, 2.2720092114450785, 2.245758257021416, 2.1616157843030632, 1.9176667057531285, 1.664398519166919, 1.6302828028029897, 1.5373709438830048, 1.521742525066976, 1.5117146468782103, 1.510842393975218, 1.494663662066859, 1.4731415866251545, 2.520648589412883, 2.4023649762500527], \"Total\": [832.0, 957.0, 1407.0, 644.0, 427.0, 333.0, 221.0, 763.0, 302.0, 347.0, 223.0, 175.0, 83.0, 251.0, 283.0, 173.0, 346.0, 178.0, 189.0, 142.0, 380.0, 182.0, 383.0, 177.0, 260.0, 282.0, 240.0, 403.0, 192.0, 164.0, 283.78088254731824, 133.58191777620686, 202.84759817912814, 85.41340314449302, 85.99022802183333, 90.3346444174031, 260.4869748135631, 66.73565827479791, 113.16436323958118, 63.885992972308706, 63.36382986531863, 59.12281888019798, 54.62606130230193, 54.49490014266913, 52.94635447739106, 52.69758251472912, 49.22992483153666, 41.99791638682814, 45.68647273265477, 41.417287969573714, 43.3537192701605, 58.536973146552675, 82.1805542842149, 72.73844292572629, 42.87968601019623, 35.307436608062346, 35.1886555589179, 35.00225584145571, 34.94871773048242, 34.8182653920278, 240.4956846658736, 347.31142853957454, 68.94637520963767, 135.75920864837244, 224.23508308340112, 161.03627305834166, 282.1343066105397, 383.81285258888994, 74.55862538727465, 152.4519758472828, 211.50604834210066, 187.82949982415627, 763.4812736503148, 123.6199189493441, 294.9919982452781, 169.8692717642471, 199.7494710073176, 301.9627994613641, 310.0891862186374, 262.9507608814343, 119.59891203187459, 294.9962065539576, 228.6482262280074, 180.13896535576407, 229.258402883784, 592.190244770229, 148.790416165223, 234.38177938394742, 281.94928659540875, 256.46887883978644, 246.85392924602195, 262.11345549927137, 270.2980318542568, 450.2804495985924, 427.73440327079476, 110.54424851717721, 66.91209096535363, 59.36378081724832, 58.54443279343592, 53.70068202393463, 52.85483451859918, 66.76542700455062, 48.523159128999346, 47.91214914048432, 124.99344540483982, 46.234861713793606, 45.12426874223859, 43.434125714795364, 42.4151260147366, 39.64721750263524, 38.89315035011798, 37.084452261457585, 36.59329317171107, 35.93226583186118, 35.01328632326697, 34.86401588168169, 34.54646618202935, 33.46215857953966, 31.716068132677496, 31.333497102971265, 31.299126534241218, 29.763133335730064, 29.497091892710138, 28.965438690548723, 72.89298929642216, 209.29221290921024, 59.88593205710116, 73.72666453281954, 62.218458757853654, 48.79620417521337, 73.25916119036629, 133.57484172558333, 179.6145917292247, 133.9315919814213, 79.66732792627468, 122.527349073608, 126.88846468887044, 160.1150842335135, 313.49952610273164, 188.00668973765568, 132.702460692854, 296.08202618987195, 131.67666629007783, 160.44762299068623, 148.72400147138836, 120.78624305022852, 263.0712695239866, 288.5641666156044, 142.70549902624845, 1407.8170600852511, 324.6315444838892, 403.8931121799855, 183.58020304170913, 161.43957944220423, 282.6905225281839, 592.190244770229, 122.93269083179436, 334.63706015808253, 346.0473872410827, 332.881473507398, 383.98972039090035, 450.2804495985924, 248.97386632139097, 227.30881950424615, 253.35179896017567, 957.8618185784059, 644.5862415599549, 177.71861846037964, 62.77873873340863, 55.75976159411388, 51.79199565250649, 51.354762908117834, 47.897705568471075, 45.40857070413871, 41.57066865140277, 41.33802947471745, 36.88782250271839, 35.02359478811277, 33.96874060993992, 33.94671769160181, 33.23928492908044, 32.36430666548892, 30.858905895010423, 33.843172964043625, 29.40444846301563, 29.149146222441303, 28.870769851920052, 28.52287189312474, 27.639675812487404, 27.184717221054605, 27.036448857654225, 36.24146582678982, 26.378222461783164, 26.343695418936687, 26.119452041116773, 25.643903829863383, 25.672643277663287, 46.157332266969014, 192.87311840147865, 68.44517802935438, 47.581922925354775, 125.07181509675372, 74.00650660335646, 69.88404266610992, 317.9367497605596, 644.5862415599549, 154.33238398145284, 168.00796803273306, 190.86948491456454, 173.71372716246708, 191.89638607132756, 147.52993148140766, 1407.8170600852511, 403.8931121799855, 957.8618185784059, 108.95973904987378, 227.30881950424615, 149.22895029092135, 209.24136559537777, 259.58365909956785, 383.98972039090035, 332.881473507398, 282.6905225281839, 142.34945240487627, 141.54445778287308, 380.9242118974996, 763.4812736503148, 334.63706015808253, 592.190244770229, 211.27774794145225, 156.9122313346798, 178.75846378616194, 120.03863218706086, 86.3778600863046, 59.90488692527137, 54.752831657851736, 49.193898410626005, 47.58212377746904, 43.01392600145955, 41.77829676000303, 41.64308565303028, 39.529393488995126, 38.33553036975944, 37.04556218417503, 36.92156815130364, 36.47000028632523, 35.54006326933101, 34.80148807210873, 34.70600618597626, 34.49237167276281, 54.09346347769031, 31.97071216040706, 31.250001574525154, 29.589846202466898, 27.954240077122762, 27.736359300963592, 27.403806792537896, 26.573083491157508, 26.337970560283697, 26.312742069878638, 25.38463966940537, 189.8966599394739, 182.85761321129598, 164.27393814829045, 333.15385242448144, 81.04741053933031, 43.6140181348382, 86.98803035709679, 198.3489142590975, 346.0473872410827, 380.9242118974996, 253.35179896017567, 221.8686764811952, 57.94977978222726, 189.72625255709926, 254.5470209793982, 158.72909359638268, 78.95772021925094, 644.5862415599549, 308.7793039514703, 211.27774794145225, 168.69517661407826, 63.33098974382358, 146.76432862443437, 208.91786252098527, 115.87841144971836, 332.881473507398, 324.6315444838892, 314.1549007502505, 255.2932953510965, 957.8618185784059, 175.05932324482663, 81.49557800592575, 221.09128904385437, 71.47764339895677, 57.180612209765876, 45.23336775553026, 41.28741052157212, 36.495192486477, 32.812818387336215, 29.48750888638618, 29.22555193553641, 24.504020410663017, 23.528957460951943, 23.284555369968714, 22.154901422162684, 21.956732633541268, 20.57612738628386, 20.34574222302011, 18.47674192277689, 18.07925861771406, 17.39516616517696, 16.441601463692898, 16.498369245346442, 16.20050534873678, 16.068057016744504, 26.61452388899292, 15.274682799959642, 15.147838705018563, 14.628297998723308, 14.65189053188031, 48.38684110194299, 832.8167303747517, 21.047336948006496, 43.182861180843894, 223.32456776157554, 85.1066059652886, 136.40987835322065, 30.40827271582698, 71.50107096369005, 302.2712177488993, 182.04879986495905, 140.82948329054673, 251.44074844775503, 47.929235441230134, 957.8618185784059, 60.02969482835476, 314.1549007502505, 120.08671134848885, 1407.8170600852511, 95.55494169845296, 255.2932953510965, 119.50800043506216, 112.65519558759236, 172.5514630492094, 190.89012474481854, 450.2804495985924, 254.5470209793982, 189.72625255709926, 190.86948491456454, 763.4812736503148, 35.596154351570036, 20.519389651536663, 16.03428632528036, 15.213914356272161, 13.062572372741187, 12.145820526702758, 11.12244473392367, 10.820226826062838, 9.920065000327334, 9.76179046220142, 9.725107406221655, 9.27296933973763, 8.861160552822163, 53.370030580191056, 8.586748276507823, 8.043500094194503, 7.616164265403093, 7.293349615776314, 7.20273189545514, 6.862654601321784, 6.861931096150459, 6.720595916541095, 6.352102236315602, 6.352102236315602, 6.294092402672098, 5.859015661965573, 5.831720919066489, 5.706813315325815, 5.575389972121598, 5.497284207876346, 14.08727261795428, 26.72672742639888, 14.912227694327864, 39.6364519478826, 14.806375317149733, 142.34945240487627, 53.18373908098523, 173.71372716246708, 85.81227579981258, 125.71960973124956, 115.37429394190946, 55.8921240340938, 33.17668158604884, 63.33098974382358, 239.7241587920356, 37.02859398948726, 23.59430047705863, 23.403506038147693, 19.013310007684513, 15.51275926774372, 13.80627083391835, 11.002428783284437, 8.836018065844604, 7.42978638026361, 6.2237355213977725, 5.9873120215805935, 5.545785902101333, 3.8203460044427286, 3.611389807416624, 3.5741222224108826, 3.2974887882720405, 3.1759033501365397, 3.1616079070146506, 2.9348659125559178, 2.9258753777729187, 2.881947198960317, 2.740138019157207, 2.717888390432784, 2.6834518883948886, 2.678744299775702, 2.5578289816812405, 2.5072184358249925, 2.43216549631688, 2.425165139156915, 2.4238359192600667, 12.521405068874625, 34.970322089652356, 83.86315181963393, 9.70863731390244, 4.6562811347002855, 4.3536343998003275, 30.003808263447688, 16.996733203666526, 8.613100677463885, 7.59714459108303, 7.3827088883563405, 6.952584284416617, 6.9384775083037695, 6.068209000661636, 6.0067080386258525, 5.599886454970585, 4.861143866687292, 4.593203403784421, 4.287893802722977, 42.835622464428496, 4.153685367151906, 4.134973478676617, 4.072999567194929, 3.6960459800469643, 3.4942123324023204, 3.2166718547442783, 3.201132461479171, 3.106062712710523, 2.8636358963151087, 2.607480026175902, 2.5749168992456606, 2.481321170639804, 2.467622670994996, 2.4561054374183535, 2.4565981457136603, 2.4378254931333223, 2.4189184678573925, 5.548639378246218, 23.2455939282887], \"Category\": [\"Default\", \"Default\", \"Default\", \"Default\", \"Default\", \"Default\", \"Default\", \"Default\", \"Default\", \"Default\", \"Default\", \"Default\", \"Default\", \"Default\", \"Default\", \"Default\", \"Default\", \"Default\", \"Default\", \"Default\", \"Default\", \"Default\", \"Default\", \"Default\", \"Default\", \"Default\", \"Default\", \"Default\", \"Default\", \"Default\", \"Topic1\", \"Topic1\", \"Topic1\", \"Topic1\", \"Topic1\", \"Topic1\", \"Topic1\", \"Topic1\", \"Topic1\", \"Topic1\", \"Topic1\", \"Topic1\", \"Topic1\", \"Topic1\", \"Topic1\", \"Topic1\", \"Topic1\", \"Topic1\", \"Topic1\", \"Topic1\", \"Topic1\", \"Topic1\", \"Topic1\", \"Topic1\", \"Topic1\", \"Topic1\", \"Topic1\", \"Topic1\", \"Topic1\", \"Topic1\", \"Topic1\", \"Topic1\", \"Topic1\", \"Topic1\", \"Topic1\", \"Topic1\", \"Topic1\", \"Topic1\", \"Topic1\", \"Topic1\", \"Topic1\", \"Topic1\", \"Topic1\", \"Topic1\", \"Topic1\", \"Topic1\", \"Topic1\", \"Topic1\", \"Topic1\", \"Topic1\", \"Topic1\", \"Topic1\", \"Topic1\", \"Topic1\", \"Topic1\", \"Topic1\", \"Topic1\", \"Topic1\", \"Topic1\", \"Topic1\", \"Topic1\", \"Topic1\", \"Topic1\", \"Topic1\", \"Topic2\", \"Topic2\", \"Topic2\", \"Topic2\", \"Topic2\", \"Topic2\", \"Topic2\", \"Topic2\", \"Topic2\", \"Topic2\", \"Topic2\", \"Topic2\", \"Topic2\", \"Topic2\", \"Topic2\", \"Topic2\", \"Topic2\", \"Topic2\", \"Topic2\", \"Topic2\", \"Topic2\", \"Topic2\", \"Topic2\", \"Topic2\", \"Topic2\", \"Topic2\", \"Topic2\", \"Topic2\", \"Topic2\", \"Topic2\", \"Topic2\", \"Topic2\", \"Topic2\", \"Topic2\", \"Topic2\", \"Topic2\", \"Topic2\", \"Topic2\", \"Topic2\", \"Topic2\", \"Topic2\", \"Topic2\", \"Topic2\", \"Topic2\", \"Topic2\", \"Topic2\", \"Topic2\", \"Topic2\", \"Topic2\", \"Topic2\", \"Topic2\", \"Topic2\", \"Topic2\", \"Topic2\", \"Topic2\", \"Topic2\", \"Topic2\", \"Topic2\", \"Topic2\", \"Topic2\", \"Topic2\", \"Topic2\", \"Topic2\", \"Topic2\", \"Topic2\", \"Topic2\", \"Topic2\", \"Topic2\", \"Topic2\", \"Topic2\", \"Topic2\", \"Topic2\", \"Topic2\", \"Topic3\", \"Topic3\", \"Topic3\", \"Topic3\", \"Topic3\", \"Topic3\", \"Topic3\", \"Topic3\", \"Topic3\", \"Topic3\", \"Topic3\", \"Topic3\", \"Topic3\", \"Topic3\", \"Topic3\", \"Topic3\", \"Topic3\", \"Topic3\", \"Topic3\", \"Topic3\", \"Topic3\", \"Topic3\", \"Topic3\", \"Topic3\", \"Topic3\", \"Topic3\", \"Topic3\", \"Topic3\", \"Topic3\", \"Topic3\", \"Topic3\", \"Topic3\", \"Topic3\", \"Topic3\", \"Topic3\", \"Topic3\", \"Topic3\", \"Topic3\", \"Topic3\", \"Topic3\", \"Topic3\", \"Topic3\", \"Topic3\", \"Topic3\", \"Topic3\", \"Topic3\", \"Topic3\", \"Topic3\", \"Topic3\", \"Topic3\", \"Topic3\", \"Topic3\", \"Topic3\", \"Topic3\", \"Topic3\", \"Topic3\", \"Topic3\", \"Topic3\", \"Topic3\", \"Topic3\", \"Topic3\", \"Topic3\", \"Topic3\", \"Topic3\", \"Topic4\", \"Topic4\", \"Topic4\", \"Topic4\", \"Topic4\", \"Topic4\", \"Topic4\", \"Topic4\", \"Topic4\", \"Topic4\", \"Topic4\", \"Topic4\", \"Topic4\", \"Topic4\", \"Topic4\", \"Topic4\", \"Topic4\", \"Topic4\", \"Topic4\", \"Topic4\", \"Topic4\", \"Topic4\", \"Topic4\", \"Topic4\", \"Topic4\", \"Topic4\", \"Topic4\", \"Topic4\", \"Topic4\", \"Topic4\", \"Topic4\", \"Topic4\", \"Topic4\", \"Topic4\", \"Topic4\", \"Topic4\", \"Topic4\", \"Topic4\", \"Topic4\", \"Topic4\", \"Topic4\", \"Topic4\", \"Topic4\", \"Topic4\", \"Topic4\", \"Topic4\", \"Topic4\", \"Topic4\", \"Topic4\", \"Topic4\", \"Topic4\", \"Topic4\", \"Topic4\", \"Topic4\", \"Topic4\", \"Topic4\", \"Topic4\", \"Topic4\", \"Topic4\", \"Topic4\", \"Topic5\", \"Topic5\", \"Topic5\", \"Topic5\", \"Topic5\", \"Topic5\", \"Topic5\", \"Topic5\", \"Topic5\", \"Topic5\", \"Topic5\", \"Topic5\", \"Topic5\", \"Topic5\", \"Topic5\", \"Topic5\", \"Topic5\", \"Topic5\", \"Topic5\", \"Topic5\", \"Topic5\", \"Topic5\", \"Topic5\", \"Topic5\", \"Topic5\", \"Topic5\", \"Topic5\", \"Topic5\", \"Topic5\", \"Topic5\", \"Topic5\", \"Topic5\", \"Topic5\", \"Topic5\", \"Topic5\", \"Topic5\", \"Topic5\", \"Topic5\", \"Topic5\", \"Topic5\", \"Topic5\", \"Topic5\", \"Topic5\", \"Topic5\", \"Topic5\", \"Topic5\", \"Topic5\", \"Topic5\", \"Topic5\", \"Topic5\", \"Topic5\", \"Topic5\", \"Topic5\", \"Topic5\", \"Topic5\", \"Topic5\", \"Topic5\", \"Topic5\", \"Topic5\", \"Topic5\", \"Topic6\", \"Topic6\", \"Topic6\", \"Topic6\", \"Topic6\", \"Topic6\", \"Topic6\", \"Topic6\", \"Topic6\", \"Topic6\", \"Topic6\", \"Topic6\", \"Topic6\", \"Topic6\", \"Topic6\", \"Topic6\", \"Topic6\", \"Topic6\", \"Topic6\", \"Topic6\", \"Topic6\", \"Topic6\", \"Topic6\", \"Topic6\", \"Topic6\", \"Topic6\", \"Topic6\", \"Topic6\", \"Topic6\", \"Topic6\", \"Topic6\", \"Topic6\", \"Topic6\", \"Topic6\", \"Topic6\", \"Topic6\", \"Topic6\", \"Topic6\", \"Topic6\", \"Topic6\", \"Topic6\", \"Topic6\", \"Topic6\", \"Topic6\", \"Topic6\", \"Topic7\", \"Topic7\", \"Topic7\", \"Topic7\", \"Topic7\", \"Topic7\", \"Topic7\", \"Topic7\", \"Topic7\", \"Topic7\", \"Topic7\", \"Topic7\", \"Topic7\", \"Topic7\", \"Topic7\", \"Topic7\", \"Topic7\", \"Topic7\", \"Topic7\", \"Topic7\", \"Topic7\", \"Topic7\", \"Topic7\", \"Topic7\", \"Topic7\", \"Topic7\", \"Topic7\", \"Topic7\", \"Topic7\", \"Topic7\", \"Topic7\", \"Topic7\", \"Topic7\", \"Topic7\", \"Topic7\", \"Topic7\", \"Topic7\", \"Topic8\", \"Topic8\", \"Topic8\", \"Topic8\", \"Topic8\", \"Topic8\", \"Topic8\", \"Topic8\", \"Topic8\", \"Topic8\", \"Topic8\", \"Topic8\", \"Topic8\", \"Topic8\", \"Topic8\", \"Topic8\", \"Topic8\", \"Topic8\", \"Topic8\", \"Topic8\", \"Topic8\", \"Topic8\", \"Topic8\", \"Topic8\", \"Topic8\", \"Topic8\", \"Topic8\", \"Topic8\", \"Topic8\", \"Topic8\", \"Topic8\", \"Topic8\"], \"logprob\": [30.0, 29.0, 28.0, 27.0, 26.0, 25.0, 24.0, 23.0, 22.0, 21.0, 20.0, 19.0, 18.0, 17.0, 16.0, 15.0, 14.0, 13.0, 12.0, 11.0, 10.0, 9.0, 8.0, 7.0, 6.0, 5.0, 4.0, 3.0, 2.0, 1.0, -4.4507, -5.2076, -4.7906, -5.6581, -5.6526, -5.6039, -4.5454, -5.9076, -5.3797, -5.9519, -5.9608, -6.0303, -6.1106, -6.1131, -6.1424, -6.1471, -6.2165, -6.3781, -6.2941, -6.3924, -6.3473, -6.0475, -5.709, -5.8314, -6.3602, -6.5554, -6.5589, -6.5644, -6.5659, -6.5697, -4.6393, -4.2781, -5.8879, -5.2174, -4.7239, -5.0524, -4.5204, -4.2447, -5.825, -5.1433, -4.8455, -4.9708, -3.6807, -5.3569, -4.5655, -5.071, -4.9458, -4.6138, -4.5953, -4.7556, -5.428, -4.6804, -4.9156, -5.1512, -4.994, -4.3965, -5.3024, -5.0524, -4.969, -5.0197, -5.069, -5.0593, -5.0525, -4.9731, -4.0382, -5.3918, -5.8989, -6.0202, -6.0343, -6.122, -6.1381, -5.905, -6.2251, -6.238, -5.2797, -6.2743, -6.299, -6.3379, -6.3622, -6.4311, -6.4507, -6.4994, -6.513, -6.5317, -6.5582, -6.5626, -6.572, -6.6047, -6.6597, -6.6722, -6.6734, -6.7251, -6.7344, -6.753, -5.8397, -4.8252, -6.0473, -5.8548, -6.0182, -6.2541, -5.8744, -5.3261, -5.0578, -5.3379, -5.8221, -5.4426, -5.4231, -5.2278, -4.6643, -5.1002, -5.3979, -4.738, -5.4155, -5.2695, -5.3612, -5.5246, -4.9352, -4.8776, -5.4036, -3.7326, -4.8148, -4.7833, -5.3098, -5.4008, -5.0714, -4.7395, -5.5769, -5.0612, -5.0493, -5.1105, -5.1679, -5.1592, -5.2872, -5.3124, -5.2939, -5.3119, -5.3499, -4.4468, -5.4961, -5.6164, -5.6914, -5.7001, -5.771, -5.8252, -5.9153, -5.921, -6.0374, -6.0905, -6.1219, -6.1225, -6.1441, -6.1715, -6.2213, -6.129, -6.2701, -6.2791, -6.289, -6.3015, -6.3339, -6.351, -6.3566, -6.0642, -6.3821, -6.3835, -6.3923, -6.4113, -6.4102, -5.8306, -4.5027, -5.4811, -5.8273, -4.9427, -5.4697, -5.5371, -4.3015, -3.7541, -4.9246, -4.8766, -4.8246, -4.9275, -4.8562, -5.0899, -3.5518, -4.4469, -3.9236, -5.3643, -4.9414, -5.2059, -5.0768, -4.9746, -4.7978, -4.9058, -5.0392, -5.3942, -5.4231, -5.228, -5.0815, -5.3638, -5.3859, -5.4366, -5.4579, -4.2664, -4.6692, -4.9989, -5.3694, -5.4607, -5.5696, -5.6035, -5.7065, -5.7361, -5.7395, -5.7927, -5.8241, -5.859, -5.8625, -5.8751, -5.9016, -5.9231, -5.9259, -5.9322, -5.4836, -6.0102, -6.0336, -6.09, -6.1484, -6.1565, -6.169, -6.2008, -6.21, -6.211, -6.2481, -4.2812, -4.3179, -4.4447, -3.8453, -5.1787, -5.7791, -5.2396, -4.5946, -4.2704, -4.2079, -4.5931, -4.683, -5.5881, -4.8641, -4.6934, -5.0316, -5.4334, -4.2805, -4.6872, -4.9557, -5.0978, -5.5636, -5.2304, -5.2097, -5.403, -5.139, -5.1728, -5.2967, -5.339, -5.3098, -4.0432, -4.8134, -3.8164, -4.9461, -5.1723, -5.4108, -5.5056, -5.6301, -5.7391, -5.8491, -5.8582, -6.0402, -6.0823, -6.0932, -6.1449, -6.1542, -6.2219, -6.2337, -6.3345, -6.3576, -6.3978, -6.4573, -6.4539, -6.4728, -6.4815, -5.9797, -6.5351, -6.544, -6.5809, -6.5793, -5.3909, -2.5766, -6.2192, -5.5433, -4.016, -4.9585, -4.5497, -5.9085, -5.1499, -3.8875, -4.333, -4.5965, -4.2037, -5.5452, -3.2894, -5.4562, -4.3274, -4.9982, -3.6202, -5.2844, -4.7759, -5.1828, -5.2434, -5.1179, -5.1413, -4.9595, -5.1208, -5.2331, -5.3194, -5.3441, -3.9678, -4.5381, -4.7979, -4.8535, -5.0162, -5.0948, -5.19, -5.2202, -5.3159, -5.3331, -5.337, -5.3897, -5.4404, -3.6475, -5.4755, -5.5487, -5.6102, -5.66, -5.6738, -5.7293, -5.7295, -5.7539, -5.8192, -5.8192, -5.8296, -5.914, -5.9196, -5.9458, -5.973, -5.9896, -5.0949, -4.5849, -5.2852, -4.7149, -5.391, -4.1568, -4.7559, -4.2408, -4.6052, -4.6328, -4.7043, -5.0654, -5.2662, -5.2388, -5.0294, -3.1575, -3.6231, -3.6315, -3.8489, -4.0643, -4.1889, -4.4352, -4.6767, -4.8729, -5.0781, -5.1243, -5.2156, -5.6853, -5.7593, -5.7737, -5.8844, -5.9369, -5.9436, -6.0519, -6.056, -6.0785, -6.1533, -6.1658, -6.186, -6.1889, -6.2603, -6.2915, -6.3409, -6.3448, -6.3461, -4.8005, -3.9086, -3.1426, -5.1997, -5.922, -6.1656, -6.1334, -3.6775, -4.4164, -4.5583, -4.5914, -4.6603, -4.6629, -4.821, -4.8322, -4.9163, -5.0889, -5.1588, -5.2463, -2.9491, -5.2873, -5.2932, -5.3125, -5.4413, -5.518, -5.6327, -5.6444, -5.6825, -5.8023, -5.9439, -5.9646, -6.0233, -6.0335, -6.0402, -6.0407, -6.0515, -6.066, -5.5289, -5.5769], \"loglift\": [30.0, 29.0, 28.0, 27.0, 26.0, 25.0, 24.0, 23.0, 22.0, 21.0, 20.0, 19.0, 18.0, 17.0, 16.0, 15.0, 14.0, 13.0, 12.0, 11.0, 10.0, 9.0, 8.0, 7.0, 6.0, 5.0, 4.0, 3.0, 2.0, 1.0, 1.3015, 1.2981, 1.2974, 1.2948, 1.2935, 1.293, 1.2924, 1.292, 1.2918, 1.2914, 1.2907, 1.2904, 1.2892, 1.2892, 1.2887, 1.2887, 1.2874, 1.2846, 1.2845, 1.2843, 1.2837, 1.2832, 1.2825, 1.2821, 1.2818, 1.2809, 1.2808, 1.2806, 1.2806, 1.2805, 1.2784, 1.272, 1.2791, 1.2721, 1.2638, 1.2663, 1.2376, 1.2056, 1.2638, 1.2303, 1.2007, 1.1941, 1.0818, 1.2263, 1.148, 1.1944, 1.1576, 1.0763, 1.0683, 1.0728, 1.1883, 1.033, 1.0526, 1.0555, 0.9716, 0.6201, 1.0955, 0.8911, 0.7897, 0.8336, 0.8226, 0.7723, 0.7484, 0.3174, 1.3037, 1.3032, 1.2981, 1.2965, 1.2963, 1.295, 1.2947, 1.2942, 1.2933, 1.2931, 1.2925, 1.2924, 1.2919, 1.2912, 1.2907, 1.2893, 1.2889, 1.2878, 1.2875, 1.287, 1.2864, 1.2863, 1.2861, 1.2853, 1.2838, 1.2835, 1.2834, 1.282, 1.2817, 1.2812, 1.2717, 1.2314, 1.2607, 1.2452, 1.2516, 1.2586, 1.232, 1.1797, 1.1518, 1.1651, 1.2005, 1.1494, 1.134, 1.0967, 0.9883, 1.0637, 1.1144, 0.9718, 1.1046, 1.0529, 1.0371, 1.0817, 0.8927, 0.8579, 1.036, 0.418, 0.8029, 0.616, 0.8779, 0.9155, 0.6847, 0.277, 1.0119, 0.5261, 0.5045, 0.4821, 0.2819, 0.1313, 0.5959, 0.6617, 0.5717, -0.7762, -0.4182, 1.7734, 1.7647, 1.763, 1.7618, 1.7615, 1.7603, 1.7595, 1.7577, 1.7576, 1.7551, 1.7538, 1.7531, 1.753, 1.7525, 1.7518, 1.7497, 1.7496, 1.7491, 1.7489, 1.7485, 1.7482, 1.7472, 1.7467, 1.7466, 1.7459, 1.7457, 1.7457, 1.7454, 1.7448, 1.7448, 1.7377, 1.6356, 1.6932, 1.7106, 1.6288, 1.6265, 1.6165, 1.3371, 1.1777, 1.4367, 1.3998, 1.3242, 1.3155, 1.2872, 1.3165, 0.5988, 0.9523, 0.6121, 1.3451, 1.0327, 1.189, 0.9801, 0.8667, 0.6519, 0.6868, 0.7169, 1.0479, 1.0247, 0.2298, -0.319, 0.2235, -0.3694, 0.6106, 0.8868, 1.948, 1.9434, 1.9427, 1.9383, 1.9369, 1.935, 1.9345, 1.9324, 1.9319, 1.9318, 1.9307, 1.9299, 1.9292, 1.9291, 1.9288, 1.9282, 1.9276, 1.9276, 1.9274, 1.9261, 1.9253, 1.9247, 1.923, 1.9214, 1.9211, 1.9207, 1.9197, 1.9194, 1.9194, 1.9181, 1.8727, 1.8738, 1.8542, 1.7465, 1.8266, 1.8459, 1.695, 1.5158, 1.2835, 1.2499, 1.2725, 1.3153, 1.7527, 1.2907, 1.1675, 1.3016, 1.5981, 0.6513, 0.9806, 1.0915, 1.1745, 1.6884, 1.1812, 0.8487, 1.2449, 0.4536, 0.4448, 0.3538, 0.5189, -0.7742, 2.1921, 2.1864, 2.1854, 2.1849, 2.1819, 2.1778, 2.1743, 2.1731, 2.1705, 2.1674, 2.1671, 2.1613, 2.1598, 2.1594, 2.1574, 2.1571, 2.1544, 2.1538, 2.1494, 2.148, 2.1464, 2.1433, 2.1432, 2.1425, 2.1421, 2.1392, 2.1391, 2.1386, 2.1365, 2.1365, 2.1302, 2.099, 2.1344, 2.0916, 1.9758, 1.998, 1.935, 2.0772, 1.9808, 1.8015, 1.8631, 1.8563, 1.6695, 1.9855, 1.2462, 1.8493, 1.3231, 1.614, 0.5304, 1.5563, 1.082, 1.4342, 1.4326, 1.1318, 1.0074, 0.331, 0.7401, 0.9217, 0.8294, -0.5816, 3.8603, 3.841, 3.8278, 3.8247, 3.8144, 3.8086, 3.8014, 3.7988, 3.79, 3.7888, 3.7886, 3.7836, 3.7783, 3.7757, 3.7747, 3.7668, 3.7599, 3.7534, 3.7521, 3.745, 3.7449, 3.7413, 3.7324, 3.7324, 3.7311, 3.7185, 3.7175, 3.7129, 3.709, 3.7065, 3.6602, 3.5298, 3.413, 3.0058, 3.3143, 2.2853, 2.6708, 2.0022, 2.3431, 1.9335, 1.9479, 2.3116, 2.6323, 2.0132, 0.8915, 4.6312, 4.6163, 4.616, 4.6063, 4.5945, 4.5863, 4.5671, 4.5449, 4.522, 4.4939, 4.4865, 4.4718, 4.3748, 4.357, 4.353, 4.3229, 4.3079, 4.3057, 4.2719, 4.2708, 4.2634, 4.2391, 4.2347, 4.2273, 4.2262, 4.2009, 4.1897, 4.1707, 4.1697, 4.169, 4.0724, 3.9373, 3.8286, 3.9277, 3.9401, 3.7638, 1.8656, 4.8899, 4.8307, 4.8143, 4.8099, 4.8009, 4.8004, 4.7763, 4.7753, 4.7614, 4.7302, 4.717, 4.6983, 4.6939, 4.689, 4.6877, 4.6835, 4.6518, 4.6313, 4.5993, 4.5925, 4.5845, 4.546, 4.4981, 4.4899, 4.4683, 4.4636, 4.4616, 4.4609, 4.4578, 4.4511, 4.1579, 2.6773]}, \"token.table\": {\"Topic\": [5, 3, 2, 5, 1, 3, 4, 6, 5, 8, 5, 3, 4, 2, 4, 7, 2, 5, 2, 4, 5, 1, 6, 7, 4, 5, 3, 1, 2, 3, 5, 3, 1, 2, 3, 5, 6, 6, 5, 3, 4, 3, 2, 5, 7, 1, 2, 5, 1, 5, 3, 7, 1, 6, 8, 4, 7, 8, 3, 5, 1, 5, 5, 1, 3, 4, 5, 1, 2, 3, 4, 3, 2, 3, 5, 1, 2, 4, 5, 1, 4, 7, 7, 4, 6, 4, 6, 8, 6, 4, 1, 2, 3, 4, 6, 2, 1, 2, 8, 1, 8, 5, 2, 4, 5, 8, 4, 3, 4, 2, 3, 4, 2, 3, 1, 2, 3, 4, 2, 3, 4, 7, 2, 2, 3, 1, 2, 3, 4, 5, 4, 3, 4, 5, 2, 8, 8, 2, 3, 4, 5, 1, 2, 3, 4, 2, 3, 5, 5, 5, 7, 3, 8, 1, 5, 8, 6, 1, 3, 5, 1, 2, 2, 2, 1, 2, 3, 4, 5, 6, 6, 1, 2, 3, 6, 8, 3, 2, 5, 2, 5, 4, 1, 2, 3, 1, 2, 5, 3, 1, 5, 2, 3, 4, 6, 3, 6, 2, 4, 6, 7, 2, 3, 4, 1, 2, 3, 5, 2, 3, 6, 6, 5, 2, 1, 2, 4, 2, 1, 2, 3, 5, 7, 1, 5, 1, 3, 4, 1, 2, 3, 4, 3, 2, 3, 5, 6, 5, 3, 1, 3, 5, 1, 3, 1, 2, 3, 1, 3, 4, 2, 2, 5, 1, 2, 7, 1, 2, 3, 4, 5, 1, 1, 5, 1, 2, 3, 4, 5, 1, 2, 3, 4, 5, 1, 3, 4, 5, 3, 4, 1, 2, 3, 5, 1, 2, 3, 4, 8, 8, 6, 1, 6, 4, 1, 2, 2, 5, 2, 3, 4, 5, 2, 3, 4, 5, 3, 6, 5, 1, 2, 3, 4, 6, 6, 4, 1, 3, 4, 2, 3, 4, 3, 2, 3, 7, 4, 2, 6, 6, 8, 1, 2, 3, 5, 1, 1, 2, 3, 6, 2, 3, 4, 2, 3, 1, 3, 1, 2, 3, 4, 1, 5, 4, 1, 4, 5, 7, 1, 2, 3, 4, 5, 1, 2, 3, 5, 1, 5, 1, 5, 1, 2, 3, 4, 5, 5, 2, 1, 2, 3, 5, 5, 1, 2, 3, 5, 1, 4, 7, 1, 1, 2, 3, 5, 2, 3, 4, 4, 5, 2, 3, 4, 8, 7, 2, 2, 3, 3, 1, 3, 5, 5, 1, 2, 3, 5, 2, 5, 1, 2, 3, 4, 1, 2, 3, 5, 8, 2, 2, 4, 4, 1, 2, 3, 5, 7, 8, 4, 1, 2, 3, 4, 3, 5, 2, 4, 5, 7, 1, 2, 3, 5, 1, 2, 3, 5, 2, 4, 2, 5, 1, 2, 3, 4, 5, 6, 6, 1, 1, 2, 3, 4, 5, 2, 3, 8, 8, 1, 2, 3, 4, 5, 2, 3, 4, 4, 1, 3, 4, 5, 6, 2, 7, 2, 3, 6, 1, 3, 4, 5, 2, 4, 5, 7, 2, 1, 2, 1, 2, 5, 2, 3, 4, 5, 1, 4, 5, 3, 1, 5, 4, 2, 1, 1, 7, 4, 5, 5, 7, 1, 7, 2, 3, 4, 5, 6, 2, 2, 2, 1, 6, 7, 3, 2, 3, 4, 2, 4, 5, 2, 3, 2, 3, 4, 5, 2, 2, 7, 4, 4, 1, 4, 6, 1, 2, 4, 4, 6, 7, 2, 4, 5, 1, 2, 4, 7, 1, 8, 3, 1, 3, 4, 1, 3, 1, 2, 3, 4, 1, 5, 2, 3, 4, 1, 2, 3, 5, 6, 4, 2, 1, 3, 4, 5, 6, 4, 7, 8, 8, 7, 1, 2, 3, 5, 3, 6, 7, 6, 1, 2, 3, 4, 6, 8, 1, 2, 3, 1, 2, 3, 3, 2, 1, 2, 4, 6, 2, 3, 5, 2, 4, 5, 3, 8, 3, 6, 8, 8, 1, 2, 4, 4, 8, 4, 1, 1, 3, 4, 4, 6, 1, 2, 3, 5, 1, 6, 7, 1, 4, 7, 6, 1, 2, 3, 2, 1, 3, 5, 1, 4, 1, 2, 3, 4, 5, 3, 1, 3, 6, 6, 2, 4, 3, 1, 8, 3, 3, 5, 7, 7, 1, 2, 3, 4, 5, 6, 3, 2, 1, 3, 2, 2, 6, 8, 7, 1, 3, 4, 6, 8, 1, 2, 3, 8, 3, 1, 5, 3, 1, 2, 3, 1, 7, 1, 2, 3, 5, 1, 2, 3, 1, 2, 5, 1, 1, 2, 3, 4, 1, 1, 2, 3, 4, 5, 7, 6], \"Freq\": [0.9772829899165876, 0.9816683293644503, 0.2831931771202363, 0.6996537317088191, 0.9897108665108989, 0.008836704165275882, 0.2619101055030728, 0.7108988577940547, 0.9403040445111724, 0.8928752467046698, 0.9580657385619392, 0.9721116574449841, 0.9658642097052141, 0.09171363178768577, 0.8942079099299363, 0.606522153195264, 0.9518095158918221, 0.0333968251190113, 0.2002885709691845, 0.5165336830257916, 0.2793498489833363, 0.9784762084580828, 0.42952732924463666, 0.42952732924463666, 0.9913475173105746, 0.9775188738459922, 0.9812578586423565, 0.022606965871896218, 0.8213864266788959, 0.06028524232505659, 0.09042786348758487, 0.9862453307524425, 0.28635150933857567, 0.1829467976329789, 0.25453467496762283, 0.13522154607654963, 0.14317575466928784, 0.9072521197898427, 0.9939189583281474, 0.29129513790587247, 0.6965753297749124, 0.9721666770062221, 0.9770357931389513, 0.9478715160967777, 0.693975240324151, 0.9314408633329032, 0.03935665619716493, 0.03279721349763744, 0.9866136308118331, 0.007677927088029829, 0.9616647562292265, 0.966945966291766, 0.990918413624514, 0.9190978235327647, 0.806022220607703, 0.97642795960022, 0.946705228743708, 0.92881765807428, 0.9887435665081807, 0.9727332317550141, 0.09865736301551098, 0.8879162671395988, 0.9570491386777776, 0.06591639169772837, 0.12633975075397938, 0.08788852226363783, 0.7140942433920573, 0.0015513827871657837, 0.17685763773689933, 0.5491895066566874, 0.2714919877540121, 0.9698390497937435, 0.008955575376441469, 0.18806708290527083, 0.8015239961915114, 0.9662204895288573, 0.7728378749942468, 0.11841870665234426, 0.10595357963630803, 0.0710935671296235, 0.9242163726851055, 0.6297420857955313, 0.7298902413007453, 0.5550446348963698, 0.403668825379178, 0.6932580023214784, 0.271274870473622, 0.8228515982444822, 0.9832522820953623, 0.9871126876162526, 0.11942441444486832, 0.014049931111160978, 0.4847226233350537, 0.18967407000067318, 0.20372400111183417, 0.9831477660740858, 0.8862956878048329, 0.100335360883566, 0.870851919317209, 0.9687750141637275, 0.8142972893306355, 0.9335291743344274, 0.3245408587699401, 0.3245408587699401, 0.341926976204044, 0.6247788943653537, 0.9599999516305897, 0.2184208553981808, 0.7702209111409534, 0.06696132158267415, 0.02434957148460878, 0.9070215378016772, 0.9752175456604338, 0.9707741368553012, 0.08107395248579236, 0.05404930165719491, 0.8647888265151186, 0.9651620740112948, 0.7597966628253949, 0.127753421183031, 0.10758182836465768, 0.9088902275098215, 0.9900049625115975, 0.9936072402643198, 0.004675798777714446, 0.11275112746459227, 0.12423503859524519, 0.3111095924485972, 0.06577149102101217, 0.3862770107583254, 0.984847542670895, 0.9204446801640419, 0.07305116509238428, 0.9688183272985971, 0.8603781026933032, 0.08603781026933033, 0.7767240956731123, 0.7126403541452718, 0.030396981930367044, 0.11145560041134583, 0.1452300247784203, 0.056615034322254114, 0.20444317949702873, 0.644782335336783, 0.09435839053709019, 0.08525285024959975, 0.007204466218276035, 0.9065619991330678, 0.9731412134840963, 0.975228632367346, 0.6325895110404443, 0.9930919181001271, 0.7670240921972373, 0.04751194901617781, 0.9502389803235561, 0.7255185590598127, 0.8742972433501706, 0.08797016861877935, 0.13928610031306732, 0.7697389754143193, 0.016000839032176632, 0.984051600478863, 0.9774225440025549, 0.9907005198025087, 0.4588607195632155, 0.1835442878252862, 0.004171461086938323, 0.12514383260814968, 0.1835442878252862, 0.050057533043259876, 0.9095400221142192, 0.8948057433892639, 0.041208159235031884, 0.05886879890718841, 0.8702679080034248, 0.9213988118925742, 0.965744602254136, 0.970757225863501, 0.9258970431542503, 0.17624953820997008, 0.8224978449798604, 0.9750398426327106, 0.06737795743370323, 0.8759134466381421, 0.04491863828913549, 0.02389004316261385, 0.9221556660768946, 0.0477800863252277, 0.9768566094325027, 0.0926293416095925, 0.9031360806935269, 0.3028641614577933, 0.6516168322273735, 0.04588850931178687, 0.9056613322925647, 0.975085877292314, 0.8761457093002066, 0.8518238887331206, 0.144754386320661, 0.7871409832503169, 0.9015854719716946, 0.5073764335941, 0.1579568142321255, 0.33027333884898963, 0.5993985728451635, 0.19152380434105817, 0.16314990740164215, 0.04610758252655104, 0.6016876690687766, 0.07521095863359707, 0.3008438345343883, 0.9028162792346771, 0.9939487756196502, 0.9743597783498844, 0.05460067976489481, 0.9282115560032118, 0.013650169941223703, 0.986188620245729, 0.07530876566619812, 0.3263379845535252, 0.12551460944366355, 0.46858787525634393, 0.7358653898519832, 0.9717697238800512, 0.014504025729553003, 0.9821261636097124, 0.018486521951259945, 0.9797856634167771, 0.0901434141907595, 0.3064876082485823, 0.0721147313526076, 0.5273389730159431, 0.9856615637262468, 0.05232591754154092, 0.40814215682401916, 0.5232591754154092, 0.8226672675914704, 0.9242242588285365, 0.9714814093032214, 0.9588151730924003, 0.035676843649949774, 0.9834672746258585, 0.9674314531279938, 0.028792602771666485, 0.8944281923621135, 0.10115556937428664, 0.00532397733548877, 0.5178370024400261, 0.013627289537895422, 0.4633278442884443, 0.9838267487471108, 0.03757346943987881, 0.9393367359969702, 0.9729904315127391, 0.02079039383574229, 0.7819131045600305, 0.12095943723701309, 0.25146830372957985, 0.00636628617036911, 0.20053801436662697, 0.4169917441591767, 0.9629699368273086, 0.16691273971623102, 0.8136996061166262, 0.07772541647989462, 0.33681013807954335, 0.11011100667985071, 0.3789114053394863, 0.10039532961986389, 0.4505209481892507, 0.17811293300505263, 0.020954462706476776, 0.04714754108957275, 0.3038397092439133, 0.08906609669748626, 0.6339410411997551, 0.015717546476026988, 0.25671992577510744, 0.9571410594925747, 0.9848946059041865, 0.7900952722267962, 0.18059320508041055, 0.022574150635051318, 0.006449757324300377, 0.04967453120886393, 0.7947924993418228, 0.01655817706962131, 0.14074450509178113, 0.6439020023052557, 0.6984128123877673, 0.8330172616567815, 0.9794847842405596, 0.8927779730414196, 0.9717763175255126, 0.14690597761310045, 0.8487900928756915, 0.40566217142482697, 0.5886078565771999, 0.28980194467038967, 0.012600084550886508, 0.52290350886179, 0.17640118371241112, 0.3064266857254359, 0.003928547252890204, 0.4557114813352637, 0.23178428792052205, 0.14197212293960954, 0.7808466761678524, 0.9741977278911282, 0.04333720995525643, 0.5027116354809745, 0.13867907185682057, 0.17334883982102572, 0.14734651384787187, 0.9219620145350236, 0.9800659253707874, 0.02711314212535981, 0.6303805544146155, 0.3389142765669976, 0.2913965469589742, 0.21264072345654877, 0.49616168806528044, 0.9875955020900378, 0.9837868330426811, 0.8998857665975991, 0.06665820493315548, 0.9491999371317816, 0.9950766455561671, 0.9746878605866444, 0.8627225764370264, 0.858562592828312, 0.9357245603046339, 0.05316616819912692, 0.007088822426550257, 0.0035444112132751284, 0.9867625329011223, 0.9030474612766953, 0.08510394923026449, 0.009455994358918276, 0.9354953314230358, 0.7818870711734972, 0.01595687900354076, 0.20212046737818296, 0.14309418314246256, 0.844255680540529, 0.9734662986492688, 0.01216832873311586, 0.19075278836715434, 0.1695580341041372, 0.47334951187404967, 0.1624931160164648, 0.28403143337162995, 0.7100785834290749, 0.9757307623669011, 0.3414199584583423, 0.09160047665955524, 0.557930176017291, 0.4111562315616835, 0.07671451288810209, 0.4091440687365445, 0.3075683711161871, 0.017047669530689355, 0.18894500396514036, 0.8610786258037147, 0.060075252963049865, 0.02002508432101662, 0.055068981882795714, 0.04133355173540538, 0.930004914046621, 0.964943750808837, 0.029463931322407235, 0.08434620191378597, 0.4900112682610423, 0.16065943221673518, 0.20484077607633736, 0.05623080127585731, 0.9338563219631537, 0.9732915452102412, 0.7627216723508794, 0.17627345316553658, 0.0067797481986744835, 0.05423798558939587, 0.9794311136615079, 0.6613142045742818, 0.16639518695739994, 0.11946321114890253, 0.05119851906381537, 0.5127400898606925, 0.03577256440888552, 0.4411949610429215, 0.9810087052433482, 0.1943856449700492, 0.038877128994009844, 0.7127473648901804, 0.051836171992013125, 0.7240840291593094, 0.20414703905813128, 0.07017554467623263, 0.9696374558209184, 0.9933175832855767, 0.9358893480022352, 0.054254454956651314, 0.3604487269151286, 0.540673090372693, 0.9748116932885345, 0.9938720072704227, 0.5235168624760601, 0.4751245474572646, 0.9748905691529879, 0.19281238567070857, 0.6097040303641326, 0.19281238567070857, 0.9720002031739019, 0.5049053114949784, 0.3563044171419413, 0.11651661034499503, 0.021952404847607757, 0.009046037085627972, 0.9905410608762629, 0.14824879991862439, 0.657616471433898, 0.15965255375851858, 0.034211261519682554, 0.7948256141165496, 0.1216957878073186, 0.045635920427744475, 0.03802993368978706, 0.862988459334219, 0.9574418042585865, 0.11104611412146871, 0.876030455847142, 0.9845572045647994, 0.6157487566200022, 0.14178425316907944, 0.2268548050705271, 0.012152935985921095, 0.6835561128793992, 0.4134078983181979, 0.9769697183508921, 0.9861316552958215, 0.1607066635955003, 0.6844913449437976, 0.1547545649438151, 0.9532613311685512, 0.021665030253830708, 0.47046210095823865, 0.05325986048583834, 0.46158545754393226, 0.807560230256192, 0.715350006530121, 0.004361890283720251, 0.2660753073069353, 0.013085670851160752, 0.00247590258373699, 0.500132321914872, 0.4382347573214472, 0.05942166200968776, 0.17256320968914055, 0.8110470855389605, 0.8912059918176802, 0.10041757654283721, 0.31203813167966415, 0.11171735578654642, 0.40064155178623545, 0.015409290453316748, 0.16179754975982585, 0.8743894271054394, 0.7871409832503169, 0.9764989615991855, 0.37310080895087827, 0.3064756644953643, 0.09993771668327098, 0.06440430630699685, 0.1554586703961993, 0.9603118307488021, 0.027437480878537205, 0.8647430207591469, 0.8239663464878738, 0.09792658270017753, 0.3290333178725965, 0.007834126616014202, 0.23894086178843318, 0.3290333178725965, 0.8125965139813288, 0.04556615966250442, 0.13669847898751325, 0.9877659143549055, 0.9762389072439528, 0.6274691227945212, 0.17269792370491407, 0.040296182197813286, 0.1496715338775922, 0.9841817053255185, 0.9416011141880865, 0.11193569062038322, 0.8635038990715277, 0.015990812945769033, 0.8002815800297501, 0.12312024308150002, 0.014407688020175535, 0.06156012154075001, 0.3556711057439491, 0.4564445857047347, 0.1837634046343737, 0.9053852018392528, 0.9740549110867777, 0.7771777734123657, 0.21649952259344474, 0.1873652325988705, 0.8056705001751432, 0.9864312953915645, 0.435590477512043, 0.33645609297481943, 0.22230134714407712, 0.003004072258703745, 0.07372430881334219, 0.9215538601667774, 0.9448322997987983, 0.9737992200340148, 0.9737435493511986, 0.017083220164056116, 0.9957570468547479, 0.98921836215139, 0.9852255529867788, 0.9884844121871393, 0.6814621381657054, 0.9813707876969234, 0.9564264570002662, 0.9697928178273126, 0.7453086856706432, 0.9849742671825021, 0.9400300948131456, 0.600680997621528, 0.10781453803463323, 0.22178990681410266, 0.06468872282077993, 0.0030804153724180924, 0.9863688168730835, 0.9836755882656274, 0.9584932016291261, 0.9956437384198829, 0.4120042669914279, 0.5150053337392848, 0.9564197335061099, 0.5863150324066975, 0.40787132689161565, 0.9866075989973763, 0.1398580449945741, 0.05594321799782964, 0.8111766609685298, 0.9426962768420881, 0.04098679464530818, 0.231922199462191, 0.31238500335723685, 0.4212464439211224, 0.033131742780313, 0.9809620491493758, 0.45938630034982425, 0.45938630034982425, 0.9501100240183105, 0.9734514795913388, 0.4651818203248133, 0.32204895253256305, 0.21469930168837537, 0.048807196518700184, 0.7402424805336195, 0.20336331882791744, 0.31945296697916864, 0.07986324174479216, 0.5590426922135451, 0.47759676661707845, 0.5052263316279838, 0.011841242147530871, 0.6238573690648463, 0.2183500791726962, 0.1559643422662116, 0.8307051190760334, 0.2101055029017909, 0.7703868439732332, 0.9676319966936063, 0.9908916930951454, 0.004929809418383808, 0.9956254984098118, 0.8542604596022587, 0.14237674326704314, 0.03716560722426816, 0.6751751979075383, 0.049554142965690884, 0.2353821790870317, 0.9889765337779589, 0.916549311258823, 0.12732113951722882, 0.5561923463121048, 0.3149522924899871, 0.7947998906756321, 0.14571331329053255, 0.013246664844593867, 0.04636332695607854, 0.8533856689371961, 0.986250361213167, 0.9750850534850614, 0.10488009921792164, 0.3262936420113118, 0.0932267548603748, 0.2563735758660307, 0.2097601984358433, 0.9784336849222557, 0.8033760404518383, 0.8104966871590457, 0.8116782140145021, 0.7976967508783918, 0.9066918881237939, 0.015632618760755067, 0.05731960212276858, 0.020843491681006757, 0.9910023438790715, 0.924195043297323, 0.41256918096389694, 0.8967982553689163, 0.09904824452403929, 0.5341530329689262, 0.34666885583413753, 0.021224623826579848, 0.9254396505937028, 0.8141339695666769, 0.08669030732598047, 0.8353793251412663, 0.07092843326671129, 0.01607240069851092, 0.9482716412121444, 0.03214480139702184, 0.9869534090236396, 0.9885355783840273, 0.0231182210730769, 0.44502575565673036, 0.5114906412418264, 0.014448888170673062, 0.8661137994692938, 0.12693047061187926, 0.9555080942993742, 0.7568033519166286, 0.23825290708486455, 0.9793529281317447, 0.9759318267525017, 0.6217606552095746, 0.33529530949301695, 0.6035315570874306, 0.6996441931688897, 0.7365578980569589, 0.9750167233497629, 0.9710599481033684, 0.9848040993838902, 0.9796575214620479, 0.8127098184059399, 0.985264573072094, 0.9713659643539699, 0.422857022175023, 0.07766761631786137, 0.49189490334645536, 0.4052308462727133, 0.5403077950302844, 0.587531836954582, 0.25561450049322726, 0.12589967934741045, 0.026705992588844638, 0.9899247876905831, 0.9202102543865244, 0.7466184809679166, 0.18309858810300667, 0.8134379897690952, 0.8393669307638799, 0.8990829120058298, 0.47313780293062163, 0.07646671562515096, 0.4492419542977619, 0.9902127836519365, 0.9625160658297476, 0.00620978106986934, 0.0310489053493467, 0.9972482905109437, 0.985725200997077, 0.18228704247874877, 0.45721176228276333, 0.21217016419657644, 0.12252079904309345, 0.026894809546044902, 0.9605770195232477, 0.9656830397021866, 0.026824528880616295, 0.9316681638248222, 0.8573798488286324, 0.3529134518405329, 0.6453274547941174, 0.9863743751337329, 0.9951599733850475, 0.722250179015614, 0.9627162578339279, 0.9247209296065231, 0.04203276952756923, 0.7852691867467664, 0.8350992869551581, 0.051981506144459934, 0.6341743749624112, 0.19752972334894775, 0.09356671106002788, 0.02425803620074797, 0.7943957095191828, 0.9862723244557792, 0.9869520833343917, 0.129618892498854, 0.8658542018923447, 0.9666692881518918, 0.0936855374757048, 0.899381159766766, 0.8324027017540616, 0.41234305402709204, 0.04737017394067457, 0.03158011596044971, 0.7737128410310179, 0.15790057980224856, 0.41020163371690155, 0.3177168385544394, 0.35678038427834585, 0.32552954769922066, 0.9413573660465817, 0.9847081456791063, 0.9761000805653562, 0.01374788845866699, 0.9959564255754112, 0.8132244207559485, 0.08065035577744945, 0.1008129447218118, 0.4861264919555964, 0.4861264919555964, 0.5734410973572133, 0.38476047822677534, 0.011098859948849288, 0.029596959863598102, 0.3377270477575063, 0.648218043276504, 0.010894420895403429, 0.9221814815031057, 0.06471448993004252, 0.008089311241255314, 0.9728540046075869, 0.7784884358669762, 0.004373530538578518, 0.0743500191558348, 0.14432650777309108, 0.9885391461991504, 0.1819557958895353, 0.006616574395983102, 0.003308287197991551, 0.1356397751176536, 0.6748905883902764, 0.9722216298631461, 0.9186551972750368], \"Term\": [\"accident\", \"active\", \"activity\", \"activity\", \"actually\", \"actually\", \"acute\", \"acute\", \"addition\", \"additionally\", \"adjust\", \"admit\", \"adolescent\", \"adult\", \"adult\", \"advice\", \"affect\", \"affect\", \"age\", \"age\", \"age\", \"agree\", \"alter\", \"alter\", \"antibody\", \"anxiety\", \"apply\", \"area\", \"area\", \"area\", \"area\", \"around\", \"article\", \"article\", \"article\", \"article\", \"article\", \"asian\", \"associate\", \"asymptomatic\", \"asymptomatic\", \"at\", \"author\", \"avoidance\", \"bacteria\", \"bad\", \"bad\", \"bad\", \"be\", \"be\", \"bed\", \"behavior\", \"benefit\", \"birth\", \"blogger\", \"blood\", \"bodsphere\", \"body\", \"bring\", \"call\", \"cancer\", \"cancer\", \"car\", \"care\", \"care\", \"care\", \"care\", \"case\", \"case\", \"case\", \"case\", \"category\", \"cause\", \"cause\", \"cause\", \"chance\", \"change\", \"change\", \"change\", \"child\", \"child\", \"client\", \"clientele\", \"clinical\", \"clinical\", \"cluster\", \"cluster\", \"cognitive\", \"cohort\", \"collect\", \"com\", \"com\", \"com\", \"com\", \"com\", \"combination\", \"come\", \"come\", \"commence\", \"comment\", \"communicate\", \"comorbiditie\", \"compare\", \"compare\", \"compare\", \"compute\", \"conduct\", \"confirm\", \"confirm\", \"contact\", \"contact\", \"contact\", \"contain\", \"context\", \"continue\", \"continue\", \"continue\", \"contribute\", \"control\", \"control\", \"control\", \"correlate\", \"correlation\", \"country\", \"country\", \"covid\", \"covid\", \"covid\", \"covid\", \"covid\", \"cross\", \"daily\", \"daily\", \"damage\", \"dangerous\", \"dangerous\", \"dark\", \"datum\", \"datum\", \"datum\", \"datum\", \"day\", \"day\", \"day\", \"day\", \"death\", \"death\", \"death\", \"decade\", \"decision\", \"declaration\", \"decline\", \"deficiency\", \"depression\", \"depression\", \"deprive\", \"diabetes\", \"die\", \"die\", \"die\", \"different\", \"different\", \"discuss\", \"discussion\", \"disease\", \"disease\", \"disease\", \"disease\", \"disease\", \"disease\", \"diversity\", \"do\", \"do\", \"do\", \"dominant\", \"door\", \"dose\", \"drive\", \"drug\", \"due\", \"due\", \"dynamic\", \"early\", \"early\", \"early\", \"effect\", \"effect\", \"effect\", \"effectiveness\", \"emergency\", \"emergency\", \"end\", \"end\", \"end\", \"enrol\", \"enter\", \"environmental\", \"epidemic\", \"epidemic\", \"epilepsy\", \"establishment\", \"estimate\", \"estimate\", \"estimate\", \"even\", \"even\", \"even\", \"even\", \"event\", \"event\", \"event\", \"exceed\", \"excess\", \"exist\", \"explain\", \"explain\", \"explain\", \"extreme\", \"factor\", \"factor\", \"factor\", \"factor\", \"fat\", \"fear\", \"fear\", \"feel\", \"finding\", \"finding\", \"first\", \"first\", \"first\", \"first\", \"flatten\", \"flu\", \"flu\", \"flu\", \"fold\", \"forever\", \"generally\", \"get\", \"get\", \"global\", \"go\", \"go\", \"good\", \"good\", \"good\", \"group\", \"group\", \"group\", \"growth\", \"harm\", \"harm\", \"have\", \"have\", \"hazard\", \"health\", \"health\", \"health\", \"health\", \"health\", \"hear\", \"heart\", \"heart\", \"high\", \"high\", \"high\", \"high\", \"high\", \"home\", \"home\", \"home\", \"home\", \"home\", \"hospital\", \"hospital\", \"hospital\", \"hospital\", \"hospitalisation\", \"household\", \"how\", \"how\", \"how\", \"how\", \"however\", \"however\", \"however\", \"however\", \"humber\", \"hyper\", \"hypertension\", \"idea\", \"ideal\", \"igg\", \"immunity\", \"immunity\", \"impact\", \"impact\", \"include\", \"include\", \"include\", \"include\", \"increase\", \"increase\", \"increase\", \"increase\", \"index\", \"index\", \"indirect\", \"individual\", \"individual\", \"individual\", \"individual\", \"individual\", \"indoor\", \"induce\", \"infect\", \"infect\", \"infect\", \"infection\", \"infection\", \"infection\", \"infectious\", \"initial\", \"instead\", \"instead\", \"interval\", \"intervention\", \"introduction\", \"investigation\", \"jump\", \"just\", \"just\", \"just\", \"just\", \"kid\", \"know\", \"know\", \"know\", \"laboratory\", \"large\", \"large\", \"large\", \"late\", \"late\", \"let\", \"let\", \"level\", \"level\", \"level\", \"level\", \"life\", \"life\", \"lineage\", \"live\", \"live\", \"live\", \"localize\", \"lockdown\", \"lockdown\", \"lockdown\", \"lockdown\", \"lockdown\", \"long\", \"long\", \"long\", \"long\", \"lose\", \"lose\", \"lot\", \"lot\", \"low\", \"low\", \"low\", \"low\", \"low\", \"mainly\", \"major\", \"make\", \"make\", \"make\", \"make\", \"male\", \"many\", \"many\", \"many\", \"many\", \"mask\", \"mask\", \"mask\", \"maybe\", \"mean\", \"mean\", \"mean\", \"mean\", \"measure\", \"measure\", \"measure\", \"member\", \"mental\", \"method\", \"method\", \"midland\", \"midland\", \"minute\", \"mitigation\", \"model\", \"model\", \"modelling\", \"month\", \"month\", \"month\", \"morbidity\", \"more\", \"more\", \"more\", \"more\", \"mortality\", \"mortality\", \"most\", \"most\", \"most\", \"most\", \"much\", \"much\", \"much\", \"much\", \"mutate\", \"nation\", \"national\", \"national\", \"nationwide\", \"need\", \"need\", \"need\", \"need\", \"negatively\", \"neighbour\", \"network\", \"never\", \"new\", \"new\", \"new\", \"news\", \"news\", \"non\", \"non\", \"non\", \"notice\", \"now\", \"now\", \"now\", \"now\", \"number\", \"number\", \"number\", \"number\", \"observe\", \"observe\", \"occur\", \"occur\", \"only\", \"only\", \"only\", \"only\", \"only\", \"opd\", \"ophthalmic\", \"opinion\", \"other\", \"other\", \"other\", \"other\", \"other\", \"outcome\", \"outcome\", \"outdoor\", \"overdose\", \"pandemic\", \"pandemic\", \"pandemic\", \"pandemic\", \"pandemic\", \"paper\", \"paper\", \"paper\", \"participant\", \"past\", \"patient\", \"patient\", \"patient\", \"patient\", \"pattern\", \"pcr\", \"peak\", \"peak\", \"peak\", \"people\", \"people\", \"people\", \"people\", \"period\", \"period\", \"period\", \"pest\", \"play\", \"point\", \"point\", \"policy\", \"policy\", \"political\", \"population\", \"population\", \"population\", \"population\", \"positive\", \"positive\", \"poverty\", \"practice\", \"pretty\", \"pretty\", \"prevalence\", \"primary\", \"probably\", \"problem\", \"pronounced\", \"proportion\", \"psychological\", \"qeio\", \"qualify\", \"quite\", \"rat\", \"rate\", \"rate\", \"rate\", \"rate\", \"rate\", \"rather\", \"reach\", \"react\", \"really\", \"recommend\", \"recommend\", \"recover\", \"reduce\", \"reduce\", \"regional\", \"relate\", \"relate\", \"relate\", \"reopen\", \"reopen\", \"report\", \"report\", \"report\", \"report\", \"reproduction\", \"request\", \"request\", \"resident\", \"respectively\", \"respiratory\", \"respiratory\", \"respiratory\", \"response\", \"response\", \"response\", \"restaurant\", \"restaurant\", \"restaurant\", \"result\", \"result\", \"result\", \"risk\", \"risk\", \"risk\", \"rodent\", \"round\", \"round\", \"rule\", \"s\", \"s\", \"sample\", \"say\", \"say\", \"school\", \"school\", \"school\", \"school\", \"science\", \"season\", \"second\", \"second\", \"second\", \"see\", \"see\", \"see\", \"see\", \"selection\", \"seroprevalence\", \"set\", \"severe\", \"severe\", \"severe\", \"severe\", \"severe\", \"sex\", \"sighting\", \"sit\", \"slip\", \"sneeze\", \"so\", \"so\", \"so\", \"so\", \"social_distancing\", \"socio\", \"specialist\", \"speculative\", \"spread\", \"spread\", \"spread\", \"spread\", \"spreader\", \"storm\", \"strategy\", \"strategy\", \"strategy\", \"strict\", \"strict\", \"strict\", \"stringent\", \"strong\", \"study\", \"study\", \"study\", \"study\", \"such\", \"such\", \"sudden\", \"suggest\", \"suggest\", \"suicide\", \"summer\", \"sun\", \"super\", \"super\", \"supplement\", \"supplementation\", \"sure\", \"surge\", \"surveillance\", \"survey\", \"survive\", \"swab\", \"swedish\", \"symptom\", \"symptom\", \"symptom\", \"syndrome\", \"syndrome\", \"take\", \"take\", \"take\", \"take\", \"talk\", \"target\", \"teacher\", \"test\", \"test\", \"th\", \"thelancet\", \"then\", \"then\", \"then\", \"therefore\", \"thing\", \"thing\", \"thing\", \"think\", \"threshold\", \"time\", \"time\", \"time\", \"time\", \"time\", \"today\", \"too\", \"too\", \"tracker\", \"traditional\", \"transmission\", \"transmission\", \"trial\", \"try\", \"tyranny\", \"unlikely\", \"update\", \"update\", \"upload\", \"usage\", \"use\", \"use\", \"use\", \"use\", \"use\", \"uvb\", \"vaccinate\", \"vaccination\", \"vaccine\", \"vaccine\", \"variable\", \"variant\", \"variant\", \"version\", \"violate\", \"viral\", \"viral\", \"viral\", \"viral\", \"virulent\", \"virus\", \"virus\", \"virus\", \"vitamin\", \"vulnerable\", \"want\", \"want\", \"wave\", \"way\", \"way\", \"way\", \"wear\", \"wear\", \"when\", \"when\", \"when\", \"when\", \"where\", \"where\", \"where\", \"why\", \"why\", \"why\", \"word\", \"work\", \"work\", \"work\", \"work\", \"wrong\", \"year\", \"year\", \"year\", \"year\", \"year\", \"yoga\", \"zinc\"]}, \"R\": 30, \"lambda.step\": 0.01, \"plot.opts\": {\"xlab\": \"PC1\", \"ylab\": \"PC2\"}, \"topic.order\": [2, 6, 7, 4, 1, 3, 5, 8]};\n",
       "\n",
       "function LDAvis_load_lib(url, callback){\n",
       "  var s = document.createElement('script');\n",
       "  s.src = url;\n",
       "  s.async = true;\n",
       "  s.onreadystatechange = s.onload = callback;\n",
       "  s.onerror = function(){console.warn(\"failed to load library \" + url);};\n",
       "  document.getElementsByTagName(\"head\")[0].appendChild(s);\n",
       "}\n",
       "\n",
       "if(typeof(LDAvis) !== \"undefined\"){\n",
       "   // already loaded: just create the visualization\n",
       "   !function(LDAvis){\n",
       "       new LDAvis(\"#\" + \"ldavis_el1598821799694572801518052454\", ldavis_el1598821799694572801518052454_data);\n",
       "   }(LDAvis);\n",
       "}else if(typeof define === \"function\" && define.amd){\n",
       "   // require.js is available: use it to load d3/LDAvis\n",
       "   require.config({paths: {d3: \"https://d3js.org/d3.v5\"}});\n",
       "   require([\"d3\"], function(d3){\n",
       "      window.d3 = d3;\n",
       "      LDAvis_load_lib(\"https://cdn.jsdelivr.net/gh/bmabey/pyLDAvis@3.3.1/pyLDAvis/js/ldavis.v3.0.0.js\", function(){\n",
       "        new LDAvis(\"#\" + \"ldavis_el1598821799694572801518052454\", ldavis_el1598821799694572801518052454_data);\n",
       "      });\n",
       "    });\n",
       "}else{\n",
       "    // require.js not available: dynamically load d3 & LDAvis\n",
       "    LDAvis_load_lib(\"https://d3js.org/d3.v5.js\", function(){\n",
       "         LDAvis_load_lib(\"https://cdn.jsdelivr.net/gh/bmabey/pyLDAvis@3.3.1/pyLDAvis/js/ldavis.v3.0.0.js\", function(){\n",
       "                 new LDAvis(\"#\" + \"ldavis_el1598821799694572801518052454\", ldavis_el1598821799694572801518052454_data);\n",
       "            })\n",
       "         });\n",
       "}\n",
       "</script>"
      ],
      "text/plain": [
       "PreparedData(topic_coordinates=              x         y  topics  cluster       Freq\n",
       "topic                                                \n",
       "1     -0.057447  0.355851       1        1  27.132580\n",
       "5     -0.283691  0.099174       2        1  26.958794\n",
       "6     -0.066101  0.162474       3        1  16.894713\n",
       "3      0.291895  0.164139       4        1  14.187395\n",
       "0     -0.275895 -0.184044       5        1  11.113690\n",
       "2      0.183998 -0.270598       6        1   2.052610\n",
       "4      0.180344 -0.110070       7        1   0.949736\n",
       "7      0.026896 -0.216925       8        1   0.710482, topic_info=           Term         Freq        Total Category  logprob  loglift\n",
       "158       death   832.000000   832.000000  Default  30.0000  30.0000\n",
       "35        covid   957.000000   957.000000  Default  29.0000  29.0000\n",
       "15     lockdown  1407.000000  1407.000000  Default  28.0000  28.0000\n",
       "65         case   644.000000   644.000000  Default  27.0000  27.0000\n",
       "151     country   427.000000   427.000000  Default  26.0000  26.0000\n",
       "...         ...          ...          ...      ...      ...      ...\n",
       "3519      storm     1.510842     2.456598   Topic8  -6.0407   4.4609\n",
       "2242   virulent     1.494664     2.437825   Topic8  -6.0515   4.4578\n",
       "1330  neighbour     1.473142     2.418918   Topic8  -6.0660   4.4511\n",
       "6464    midland     2.520649     5.548639   Topic8  -5.5289   4.1579\n",
       "2899  dangerous     2.402365    23.245594   Topic8  -5.5769   2.6773\n",
       "\n",
       "[465 rows x 6 columns], token_table=      Topic      Freq      Term\n",
       "term                           \n",
       "1611      5  0.977283  accident\n",
       "1103      3  0.981668    active\n",
       "842       2  0.283193  activity\n",
       "842       5  0.699654  activity\n",
       "843       1  0.989711  actually\n",
       "...     ...       ...       ...\n",
       "295       3  0.003308      year\n",
       "295       4  0.135640      year\n",
       "295       5  0.674891      year\n",
       "6834      7  0.972222      yoga\n",
       "4477      6  0.918655      zinc\n",
       "\n",
       "[757 rows x 3 columns], R=30, lambda_step=0.01, plot_opts={'xlab': 'PC1', 'ylab': 'PC2'}, topic_order=[2, 6, 7, 4, 1, 3, 5, 8])"
      ]
     },
     "execution_count": 20,
     "metadata": {},
     "output_type": "execute_result"
    }
   ],
   "source": [
    "pyLDAvis.enable_notebook()\n",
    "import pyLDAvis.gensim_models\n",
    "vis = pyLDAvis.gensim_models.prepare(optimal_model, corpus, id2word,mds='mmds')\n",
    "vis"
   ]
  },
  {
   "cell_type": "code",
   "execution_count": 21,
   "metadata": {},
   "outputs": [
    {
     "name": "stdout",
     "output_type": "stream",
     "text": [
      "[(32, '0.000*\"superior\" + 0.000*\"sane\" + 0.000*\"profitable\" + 0.000*\"scaledown\" + 0.000*\"sickday\" + 0.000*\"ball\" + 0.000*\"suspension\" + 0.000*\"regimen\" + 0.000*\"nightmare\" + 0.000*\"tank\"'), (13, '0.000*\"superior\" + 0.000*\"sane\" + 0.000*\"profitable\" + 0.000*\"scaledown\" + 0.000*\"sickday\" + 0.000*\"ball\" + 0.000*\"suspension\" + 0.000*\"regimen\" + 0.000*\"nightmare\" + 0.000*\"tank\"'), (34, '0.012*\"objectively\" + 0.000*\"sane\" + 0.000*\"sickday\" + 0.000*\"superior\" + 0.000*\"suspension\" + 0.000*\"profitable\" + 0.000*\"private\" + 0.000*\"vastly\" + 0.000*\"regimen\" + 0.000*\"debatable\"'), (30, '0.018*\"web\" + 0.000*\"private\" + 0.000*\"sickday\" + 0.000*\"superior\" + 0.000*\"suspension\" + 0.000*\"sane\" + 0.000*\"profitable\" + 0.000*\"vastly\" + 0.000*\"regimen\" + 0.000*\"ball\"'), (37, '0.021*\"speculate\" + 0.005*\"spending\" + 0.000*\"reduction\" + 0.000*\"suspension\" + 0.000*\"private\" + 0.000*\"sickday\" + 0.000*\"superior\" + 0.000*\"wastewater\" + 0.000*\"sane\" + 0.000*\"profitable\"'), (17, '0.040*\"danger\" + 0.015*\"furlough\" + 0.000*\"suspension\" + 0.000*\"private\" + 0.000*\"sickday\" + 0.000*\"superior\" + 0.000*\"profitable\" + 0.000*\"vastly\" + 0.000*\"regimen\" + 0.000*\"sane\"'), (16, '0.051*\"search\" + 0.032*\"delivery\" + 0.000*\"sane\" + 0.000*\"sickday\" + 0.000*\"superior\" + 0.000*\"profitable\" + 0.000*\"suspension\" + 0.000*\"regimen\" + 0.000*\"nightmare\" + 0.000*\"ball\"'), (29, '0.064*\"introduce\" + 0.018*\"extensive\" + 0.012*\"soft\" + 0.011*\"tackle\" + 0.000*\"nightmare\" + 0.000*\"sane\" + 0.000*\"private\" + 0.000*\"superior\" + 0.000*\"regimen\" + 0.000*\"sickday\"'), (36, '0.053*\"section\" + 0.030*\"progress\" + 0.017*\"factual\" + 0.006*\"korean\" + 0.000*\"private\" + 0.000*\"suspension\" + 0.000*\"sane\" + 0.000*\"vastly\" + 0.000*\"nightmare\" + 0.000*\"gdp\"'), (20, '0.017*\"scare\" + 0.010*\"wipe\" + 0.006*\"anymore\" + 0.000*\"sub\" + 0.000*\"read\" + 0.000*\"regimen\" + 0.000*\"sane\" + 0.000*\"private\" + 0.000*\"superior\" + 0.000*\"gdp\"'), (24, '0.104*\"health\" + 0.102*\"care\" + 0.044*\"pandemic\" + 0.040*\"worker\" + 0.029*\"patient\" + 0.024*\"strain\" + 0.021*\"system\" + 0.020*\"related\" + 0.018*\"healthcare\" + 0.017*\"social\"'), (27, '0.118*\"risk\" + 0.068*\"group\" + 0.030*\"approach\" + 0.025*\"general\" + 0.023*\"policy\" + 0.022*\"apply\" + 0.021*\"here\" + 0.021*\"scientific\" + 0.020*\"similar\" + 0.018*\"consider\"'), (2, '0.085*\"transmission\" + 0.071*\"contact\" + 0.062*\"case\" + 0.041*\"individual\" + 0.029*\"study\" + 0.025*\"viral\" + 0.019*\"reproduction\" + 0.018*\"infect\" + 0.015*\"cluster\" + 0.015*\"social\"'), (6, '0.059*\"model\" + 0.058*\"wave\" + 0.038*\"second\" + 0.035*\"herd_immunity\" + 0.033*\"round\" + 0.029*\"number\" + 0.026*\"population\" + 0.025*\"problem\" + 0.019*\"infect\" + 0.017*\"curve\"'), (8, '0.071*\"day\" + 0.051*\"week\" + 0.049*\"vaccine\" + 0.030*\"hospital\" + 0.026*\"national\" + 0.023*\"start\" + 0.023*\"time\" + 0.021*\"new\" + 0.020*\"treatment\" + 0.017*\"work\"'), (23, '0.044*\"infection\" + 0.030*\"estimate\" + 0.028*\"result\" + 0.028*\"increase\" + 0.026*\"high\" + 0.023*\"report\" + 0.017*\"period\" + 0.017*\"first\" + 0.016*\"change\" + 0.015*\"number\"'), (0, '0.039*\"people\" + 0.029*\"year\" + 0.022*\"have\" + 0.018*\"go\" + 0.018*\"life\" + 0.018*\"need\" + 0.017*\"s\" + 0.017*\"only\" + 0.016*\"disease\" + 0.014*\"be\"'), (12, '0.113*\"death\" + 0.088*\"covid\" + 0.034*\"lockdown\" + 0.030*\"mortality\" + 0.028*\"cause\" + 0.024*\"excess\" + 0.023*\"datum\" + 0.019*\"rate\" + 0.016*\"other\" + 0.014*\"pandemic\"'), (33, '0.031*\"more\" + 0.030*\"people\" + 0.022*\"say\" + 0.022*\"see\" + 0.021*\"virus\" + 0.021*\"how\" + 0.020*\"so\" + 0.017*\"make\" + 0.016*\"think\" + 0.016*\"much\"'), (5, '0.070*\"lockdown\" + 0.031*\"country\" + 0.025*\"case\" + 0.022*\"measure\" + 0.016*\"most\" + 0.014*\"age\" + 0.014*\"spread\" + 0.013*\"large\" + 0.012*\"use\" + 0.011*\"epidemic\"')]\n"
     ]
    }
   ],
   "source": [
    "#12.6 Select the model and print the topics\n",
    "optimal_model = model_list[6]\n",
    "model_topics = optimal_model.show_topics(formatted=False)\n",
    "print(optimal_model.print_topics(num_words=10))"
   ]
  },
  {
   "cell_type": "code",
   "execution_count": null,
   "metadata": {},
   "outputs": [],
   "source": []
  },
  {
   "cell_type": "code",
   "execution_count": null,
   "metadata": {},
   "outputs": [],
   "source": []
  }
 ],
 "metadata": {
  "kernelspec": {
   "display_name": "Python 3",
   "language": "python",
   "name": "python3"
  },
  "language_info": {
   "codemirror_mode": {
    "name": "ipython",
    "version": 3
   },
   "file_extension": ".py",
   "mimetype": "text/x-python",
   "name": "python",
   "nbconvert_exporter": "python",
   "pygments_lexer": "ipython3",
   "version": "3.8.8"
  }
 },
 "nbformat": 4,
 "nbformat_minor": 2
}
