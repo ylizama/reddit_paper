{
 "cells": [
  {
   "cell_type": "markdown",
   "id": "e2c4fd59",
   "metadata": {},
   "source": [
    "## 1. Import libraries "
   ]
  },
  {
   "cell_type": "code",
   "execution_count": 1,
   "id": "65c8176a",
   "metadata": {},
   "outputs": [],
   "source": [
    "import pandas as pd\n",
    "import requests \n",
    "import json \n",
    "import csv \n",
    "import time\n",
    "import datetime\n",
    "import numpy as np"
   ]
  },
  {
   "cell_type": "markdown",
   "id": "cbd41aed",
   "metadata": {},
   "source": [
    "## 2. Functions "
   ]
  },
  {
   "cell_type": "code",
   "execution_count": 2,
   "id": "a28f2c65",
   "metadata": {},
   "outputs": [],
   "source": [
    "def separate_missing_values(endpoint, filename, attrs):\n",
    "    df = pd.read_csv(filename)    \n",
    "    print(\"Number of original records: \", len(df))\n",
    "\n",
    "    #replace [deleted] messages\n",
    "    if endpoint=='submission':\n",
    "        df['selftext'].replace('[deleted]',np.NaN,inplace=True)\n",
    "    \n",
    "    #delete records with no text in title and text\n",
    "    df = df.dropna(subset=attrs, how='all')\n",
    "    \n",
    "    df.to_csv('cleanned_' + filename, index=False)\n",
    "    print('Number of valid records:', len(df))\n",
    "    "
   ]
  },
  {
   "cell_type": "markdown",
   "id": "01cf388b",
   "metadata": {},
   "source": [
    "## 3. Cleanning data"
   ]
  },
  {
   "cell_type": "code",
   "execution_count": 3,
   "id": "d167d21d",
   "metadata": {},
   "outputs": [
    {
     "name": "stdout",
     "output_type": "stream",
     "text": [
      "Number of original records:  1100\n",
      "Number of valid records: 1100\n"
     ]
    }
   ],
   "source": [
    "separate_missing_values('comment', 'data_art_comment.csv', ['body'])"
   ]
  },
  {
   "cell_type": "code",
   "execution_count": 4,
   "id": "f1bbdf7d",
   "metadata": {},
   "outputs": [
    {
     "name": "stdout",
     "output_type": "stream",
     "text": [
      "Number of original records:  4902\n",
      "Number of valid records: 4902\n"
     ]
    }
   ],
   "source": [
    "separate_missing_values('submission', 'data_art_submission.csv', ['selftext', 'title'])"
   ]
  },
  {
   "cell_type": "markdown",
   "id": "7bd2abd3",
   "metadata": {},
   "source": [
    "## Transforming data"
   ]
  },
  {
   "cell_type": "code",
   "execution_count": 30,
   "id": "c3944905",
   "metadata": {},
   "outputs": [
    {
     "name": "stdout",
     "output_type": "stream",
     "text": [
      "Index(['comment_id', 'author', 'score', 'created', 'permalink', 'flair',\n",
      "       'body', 'parent_id', 'subreddit', 'subreddit_id'],\n",
      "      dtype='object')\n",
      "Index(['submission_id', 'title', 'url', 'author', 'score', 'created',\n",
      "       'num_comments', 'permalink', 'flair', 'selftext', 'subreddit',\n",
      "       'subreddit_id'],\n",
      "      dtype='object')\n"
     ]
    }
   ],
   "source": []
  },
  {
   "cell_type": "code",
   "execution_count": 6,
   "id": "532ac744",
   "metadata": {},
   "outputs": [],
   "source": [
    "df = pd.read_csv('cleanned_data_art_comment.csv')    \n",
    "df2 = pd.read_csv('cleanned_data_art_submission.csv')    \n",
    "\n",
    "#transform comments\n",
    "df['type'] = 'comment'\n",
    "df['id'] = df['comment_id']\n",
    "df['text'] = df['body']\n",
    "df = df[['id', 'type', 'text', 'created']]\n",
    "\n",
    "#transform submissions\n",
    "df2['type'] = 'submission'\n",
    "df2['id'] = df2['submission_id']\n",
    "df2 = df2.replace(np.nan, '', regex=True) ## replacing NaN values with empty strings before merging\n",
    "df2['text'] = df2['selftext'] + df2['title']\n",
    "df2 = df2[['id', 'type', 'text', 'created']]\n",
    "\n",
    "#merge datasets\n",
    "ndf = pd.concat([df, df2])\n",
    "ndf.to_csv('art_transform_data.cv', index=False)\n",
    "\n"
   ]
  },
  {
   "cell_type": "code",
   "execution_count": 7,
   "id": "b22a9c15",
   "metadata": {},
   "outputs": [
    {
     "data": {
      "text/html": [
       "<div>\n",
       "<style scoped>\n",
       "    .dataframe tbody tr th:only-of-type {\n",
       "        vertical-align: middle;\n",
       "    }\n",
       "\n",
       "    .dataframe tbody tr th {\n",
       "        vertical-align: top;\n",
       "    }\n",
       "\n",
       "    .dataframe thead th {\n",
       "        text-align: right;\n",
       "    }\n",
       "</style>\n",
       "<table border=\"1\" class=\"dataframe\">\n",
       "  <thead>\n",
       "    <tr style=\"text-align: right;\">\n",
       "      <th></th>\n",
       "      <th>id</th>\n",
       "      <th>type</th>\n",
       "      <th>text</th>\n",
       "      <th>created</th>\n",
       "    </tr>\n",
       "  </thead>\n",
       "  <tbody>\n",
       "    <tr>\n",
       "      <th>0</th>\n",
       "      <td>fg638ss</td>\n",
       "      <td>comment</td>\n",
       "      <td>https://www.google.com/amp/s/www.timeslive.co....</td>\n",
       "      <td>2020-02-01 05:01:31</td>\n",
       "    </tr>\n",
       "    <tr>\n",
       "      <th>1</th>\n",
       "      <td>fg6c0h8</td>\n",
       "      <td>comment</td>\n",
       "      <td>It’s actually an art project. I saw it in my l...</td>\n",
       "      <td>2020-02-01 08:19:18</td>\n",
       "    </tr>\n",
       "    <tr>\n",
       "      <th>2</th>\n",
       "      <td>fg6jyk6</td>\n",
       "      <td>comment</td>\n",
       "      <td>I don't know if they use this reddit but I not...</td>\n",
       "      <td>2020-02-01 10:13:03</td>\n",
       "    </tr>\n",
       "    <tr>\n",
       "      <th>3</th>\n",
       "      <td>fg6mfki</td>\n",
       "      <td>comment</td>\n",
       "      <td>Jayjel if it was possible your art is getting ...</td>\n",
       "      <td>2020-02-01 10:42:51</td>\n",
       "    </tr>\n",
       "    <tr>\n",
       "      <th>4</th>\n",
       "      <td>fg6n6xl</td>\n",
       "      <td>comment</td>\n",
       "      <td>You're referring to works by an artist named M...</td>\n",
       "      <td>2020-02-01 10:51:42</td>\n",
       "    </tr>\n",
       "  </tbody>\n",
       "</table>\n",
       "</div>"
      ],
      "text/plain": [
       "        id     type                                               text  \\\n",
       "0  fg638ss  comment  https://www.google.com/amp/s/www.timeslive.co....   \n",
       "1  fg6c0h8  comment  It’s actually an art project. I saw it in my l...   \n",
       "2  fg6jyk6  comment  I don't know if they use this reddit but I not...   \n",
       "3  fg6mfki  comment  Jayjel if it was possible your art is getting ...   \n",
       "4  fg6n6xl  comment  You're referring to works by an artist named M...   \n",
       "\n",
       "               created  \n",
       "0  2020-02-01 05:01:31  \n",
       "1  2020-02-01 08:19:18  \n",
       "2  2020-02-01 10:13:03  \n",
       "3  2020-02-01 10:42:51  \n",
       "4  2020-02-01 10:51:42  "
      ]
     },
     "execution_count": 7,
     "metadata": {},
     "output_type": "execute_result"
    }
   ],
   "source": [
    "df.head()"
   ]
  },
  {
   "cell_type": "code",
   "execution_count": 8,
   "id": "62f72d91",
   "metadata": {},
   "outputs": [
    {
     "data": {
      "text/html": [
       "<div>\n",
       "<style scoped>\n",
       "    .dataframe tbody tr th:only-of-type {\n",
       "        vertical-align: middle;\n",
       "    }\n",
       "\n",
       "    .dataframe tbody tr th {\n",
       "        vertical-align: top;\n",
       "    }\n",
       "\n",
       "    .dataframe thead th {\n",
       "        text-align: right;\n",
       "    }\n",
       "</style>\n",
       "<table border=\"1\" class=\"dataframe\">\n",
       "  <thead>\n",
       "    <tr style=\"text-align: right;\">\n",
       "      <th></th>\n",
       "      <th>id</th>\n",
       "      <th>type</th>\n",
       "      <th>text</th>\n",
       "      <th>created</th>\n",
       "    </tr>\n",
       "  </thead>\n",
       "  <tbody>\n",
       "    <tr>\n",
       "      <th>0</th>\n",
       "      <td>ex50db</td>\n",
       "      <td>submission</td>\n",
       "      <td>The first question one should ask is what even...</td>\n",
       "      <td>2020-02-01 06:44:55</td>\n",
       "    </tr>\n",
       "    <tr>\n",
       "      <th>1</th>\n",
       "      <td>exb289</td>\n",
       "      <td>submission</td>\n",
       "      <td>Good morning Los Angeles! back in October/Nove...</td>\n",
       "      <td>2020-02-01 14:16:52</td>\n",
       "    </tr>\n",
       "    <tr>\n",
       "      <th>2</th>\n",
       "      <td>exdhp6</td>\n",
       "      <td>submission</td>\n",
       "      <td>@TheEconomist: An exhibition @FoundlingMuseum ...</td>\n",
       "      <td>2020-02-01 17:09:26</td>\n",
       "    </tr>\n",
       "    <tr>\n",
       "      <th>3</th>\n",
       "      <td>exdtao</td>\n",
       "      <td>submission</td>\n",
       "      <td>(Note: I would be very interested in replies s...</td>\n",
       "      <td>2020-02-01 17:32:15</td>\n",
       "    </tr>\n",
       "    <tr>\n",
       "      <th>4</th>\n",
       "      <td>exehim</td>\n",
       "      <td>submission</td>\n",
       "      <td>Friends art exhibition looked a good place to ...</td>\n",
       "      <td>2020-02-01 18:16:25</td>\n",
       "    </tr>\n",
       "  </tbody>\n",
       "</table>\n",
       "</div>"
      ],
      "text/plain": [
       "       id        type                                               text  \\\n",
       "0  ex50db  submission  The first question one should ask is what even...   \n",
       "1  exb289  submission  Good morning Los Angeles! back in October/Nove...   \n",
       "2  exdhp6  submission  @TheEconomist: An exhibition @FoundlingMuseum ...   \n",
       "3  exdtao  submission  (Note: I would be very interested in replies s...   \n",
       "4  exehim  submission  Friends art exhibition looked a good place to ...   \n",
       "\n",
       "               created  \n",
       "0  2020-02-01 06:44:55  \n",
       "1  2020-02-01 14:16:52  \n",
       "2  2020-02-01 17:09:26  \n",
       "3  2020-02-01 17:32:15  \n",
       "4  2020-02-01 18:16:25  "
      ]
     },
     "execution_count": 8,
     "metadata": {},
     "output_type": "execute_result"
    }
   ],
   "source": [
    "df2.head()"
   ]
  },
  {
   "cell_type": "code",
   "execution_count": 9,
   "id": "63598dac",
   "metadata": {},
   "outputs": [
    {
     "data": {
      "text/html": [
       "<div>\n",
       "<style scoped>\n",
       "    .dataframe tbody tr th:only-of-type {\n",
       "        vertical-align: middle;\n",
       "    }\n",
       "\n",
       "    .dataframe tbody tr th {\n",
       "        vertical-align: top;\n",
       "    }\n",
       "\n",
       "    .dataframe thead th {\n",
       "        text-align: right;\n",
       "    }\n",
       "</style>\n",
       "<table border=\"1\" class=\"dataframe\">\n",
       "  <thead>\n",
       "    <tr style=\"text-align: right;\">\n",
       "      <th></th>\n",
       "      <th>id</th>\n",
       "      <th>type</th>\n",
       "      <th>text</th>\n",
       "      <th>created</th>\n",
       "    </tr>\n",
       "  </thead>\n",
       "  <tbody>\n",
       "    <tr>\n",
       "      <th>0</th>\n",
       "      <td>fg638ss</td>\n",
       "      <td>comment</td>\n",
       "      <td>https://www.google.com/amp/s/www.timeslive.co....</td>\n",
       "      <td>2020-02-01 05:01:31</td>\n",
       "    </tr>\n",
       "    <tr>\n",
       "      <th>1</th>\n",
       "      <td>fg6c0h8</td>\n",
       "      <td>comment</td>\n",
       "      <td>It’s actually an art project. I saw it in my l...</td>\n",
       "      <td>2020-02-01 08:19:18</td>\n",
       "    </tr>\n",
       "    <tr>\n",
       "      <th>2</th>\n",
       "      <td>fg6jyk6</td>\n",
       "      <td>comment</td>\n",
       "      <td>I don't know if they use this reddit but I not...</td>\n",
       "      <td>2020-02-01 10:13:03</td>\n",
       "    </tr>\n",
       "    <tr>\n",
       "      <th>3</th>\n",
       "      <td>fg6mfki</td>\n",
       "      <td>comment</td>\n",
       "      <td>Jayjel if it was possible your art is getting ...</td>\n",
       "      <td>2020-02-01 10:42:51</td>\n",
       "    </tr>\n",
       "    <tr>\n",
       "      <th>4</th>\n",
       "      <td>fg6n6xl</td>\n",
       "      <td>comment</td>\n",
       "      <td>You're referring to works by an artist named M...</td>\n",
       "      <td>2020-02-01 10:51:42</td>\n",
       "    </tr>\n",
       "  </tbody>\n",
       "</table>\n",
       "</div>"
      ],
      "text/plain": [
       "        id     type                                               text  \\\n",
       "0  fg638ss  comment  https://www.google.com/amp/s/www.timeslive.co....   \n",
       "1  fg6c0h8  comment  It’s actually an art project. I saw it in my l...   \n",
       "2  fg6jyk6  comment  I don't know if they use this reddit but I not...   \n",
       "3  fg6mfki  comment  Jayjel if it was possible your art is getting ...   \n",
       "4  fg6n6xl  comment  You're referring to works by an artist named M...   \n",
       "\n",
       "               created  \n",
       "0  2020-02-01 05:01:31  \n",
       "1  2020-02-01 08:19:18  \n",
       "2  2020-02-01 10:13:03  \n",
       "3  2020-02-01 10:42:51  \n",
       "4  2020-02-01 10:51:42  "
      ]
     },
     "execution_count": 9,
     "metadata": {},
     "output_type": "execute_result"
    }
   ],
   "source": [
    "ndf.head()"
   ]
  },
  {
   "cell_type": "code",
   "execution_count": 10,
   "id": "654e61fb",
   "metadata": {},
   "outputs": [
    {
     "data": {
      "text/plain": [
       "6002"
      ]
     },
     "execution_count": 10,
     "metadata": {},
     "output_type": "execute_result"
    }
   ],
   "source": [
    "len(ndf)"
   ]
  },
  {
   "cell_type": "code",
   "execution_count": null,
   "id": "36190482",
   "metadata": {},
   "outputs": [],
   "source": []
  }
 ],
 "metadata": {
  "kernelspec": {
   "display_name": "Python 3",
   "language": "python",
   "name": "python3"
  },
  "language_info": {
   "codemirror_mode": {
    "name": "ipython",
    "version": 3
   },
   "file_extension": ".py",
   "mimetype": "text/x-python",
   "name": "python",
   "nbconvert_exporter": "python",
   "pygments_lexer": "ipython3",
   "version": "3.8.8"
  }
 },
 "nbformat": 4,
 "nbformat_minor": 5
}
