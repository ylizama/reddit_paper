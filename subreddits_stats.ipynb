{
 "cells": [
  {
   "cell_type": "markdown",
   "id": "54f4c51e",
   "metadata": {},
   "source": [
    "# 1. Import libraries "
   ]
  },
  {
   "cell_type": "code",
   "execution_count": 1,
   "id": "0698c13e",
   "metadata": {},
   "outputs": [],
   "source": [
    "import csv \n",
    "import pandas as pd\n",
    "import seaborn as sns"
   ]
  },
  {
   "cell_type": "markdown",
   "id": "d7cc1e30",
   "metadata": {},
   "source": [
    "# 2. Loading data"
   ]
  },
  {
   "cell_type": "markdown",
   "id": "dc6e7d6a",
   "metadata": {},
   "source": [
    "Data downloaded from Metrics for Reddit https://frontpagemetrics.com/list-all-subreddits"
   ]
  },
  {
   "cell_type": "code",
   "execution_count": 2,
   "id": "c43c61df",
   "metadata": {},
   "outputs": [
    {
     "data": {
      "text/html": [
       "<div>\n",
       "<style scoped>\n",
       "    .dataframe tbody tr th:only-of-type {\n",
       "        vertical-align: middle;\n",
       "    }\n",
       "\n",
       "    .dataframe tbody tr th {\n",
       "        vertical-align: top;\n",
       "    }\n",
       "\n",
       "    .dataframe thead th {\n",
       "        text-align: right;\n",
       "    }\n",
       "</style>\n",
       "<table border=\"1\" class=\"dataframe\">\n",
       "  <thead>\n",
       "    <tr style=\"text-align: right;\">\n",
       "      <th></th>\n",
       "      <th>real_name</th>\n",
       "      <th>desc</th>\n",
       "      <th>created_date</th>\n",
       "      <th>subs</th>\n",
       "    </tr>\n",
       "  </thead>\n",
       "  <tbody>\n",
       "    <tr>\n",
       "      <th>0</th>\n",
       "      <td>pics</td>\n",
       "      <td>A place for pictures and photographs.</td>\n",
       "      <td>2008-01-24</td>\n",
       "      <td>27961080</td>\n",
       "    </tr>\n",
       "    <tr>\n",
       "      <th>1</th>\n",
       "      <td>funny</td>\n",
       "      <td>Welcome to r/Funny, Reddit&amp;#039;s largest humo...</td>\n",
       "      <td>2008-01-25</td>\n",
       "      <td>37288902</td>\n",
       "    </tr>\n",
       "    <tr>\n",
       "      <th>2</th>\n",
       "      <td>politics</td>\n",
       "      <td>/r/Politics is for news and discussion about U...</td>\n",
       "      <td>2007-08-06</td>\n",
       "      <td>7707316</td>\n",
       "    </tr>\n",
       "    <tr>\n",
       "      <th>3</th>\n",
       "      <td>gaming</td>\n",
       "      <td>A subreddit for (almost) anything related to g...</td>\n",
       "      <td>2007-09-17</td>\n",
       "      <td>30515341</td>\n",
       "    </tr>\n",
       "    <tr>\n",
       "      <th>4</th>\n",
       "      <td>AskReddit</td>\n",
       "      <td>r/AskReddit is the place to ask and answer tho...</td>\n",
       "      <td>2008-01-24</td>\n",
       "      <td>33508969</td>\n",
       "    </tr>\n",
       "  </tbody>\n",
       "</table>\n",
       "</div>"
      ],
      "text/plain": [
       "   real_name                                               desc created_date  \\\n",
       "0       pics              A place for pictures and photographs.   2008-01-24   \n",
       "1      funny  Welcome to r/Funny, Reddit&#039;s largest humo...   2008-01-25   \n",
       "2   politics  /r/Politics is for news and discussion about U...   2007-08-06   \n",
       "3     gaming  A subreddit for (almost) anything related to g...   2007-09-17   \n",
       "4  AskReddit  r/AskReddit is the place to ask and answer tho...   2008-01-24   \n",
       "\n",
       "       subs  \n",
       "0  27961080  \n",
       "1  37288902  \n",
       "2   7707316  \n",
       "3  30515341  \n",
       "4  33508969  "
      ]
     },
     "execution_count": 2,
     "metadata": {},
     "output_type": "execute_result"
    }
   ],
   "source": [
    "df = pd.read_csv(\"data/2021-09-10.csv\")\n",
    "df.head()"
   ]
  },
  {
   "cell_type": "code",
   "execution_count": 3,
   "id": "1d0a4a74",
   "metadata": {},
   "outputs": [
    {
     "data": {
      "text/html": [
       "<div>\n",
       "<style scoped>\n",
       "    .dataframe tbody tr th:only-of-type {\n",
       "        vertical-align: middle;\n",
       "    }\n",
       "\n",
       "    .dataframe tbody tr th {\n",
       "        vertical-align: top;\n",
       "    }\n",
       "\n",
       "    .dataframe thead th {\n",
       "        text-align: right;\n",
       "    }\n",
       "</style>\n",
       "<table border=\"1\" class=\"dataframe\">\n",
       "  <thead>\n",
       "    <tr style=\"text-align: right;\">\n",
       "      <th></th>\n",
       "      <th>subrds</th>\n",
       "    </tr>\n",
       "    <tr>\n",
       "      <th>created_date</th>\n",
       "      <th></th>\n",
       "    </tr>\n",
       "  </thead>\n",
       "  <tbody>\n",
       "    <tr>\n",
       "      <th>2006-01-17</th>\n",
       "      <td>1</td>\n",
       "    </tr>\n",
       "    <tr>\n",
       "      <th>2006-01-19</th>\n",
       "      <td>1</td>\n",
       "    </tr>\n",
       "    <tr>\n",
       "      <th>2006-02-19</th>\n",
       "      <td>3</td>\n",
       "    </tr>\n",
       "    <tr>\n",
       "      <th>2006-02-20</th>\n",
       "      <td>6</td>\n",
       "    </tr>\n",
       "    <tr>\n",
       "      <th>2006-02-22</th>\n",
       "      <td>14</td>\n",
       "    </tr>\n",
       "  </tbody>\n",
       "</table>\n",
       "</div>"
      ],
      "text/plain": [
       "              subrds\n",
       "created_date        \n",
       "2006-01-17         1\n",
       "2006-01-19         1\n",
       "2006-02-19         3\n",
       "2006-02-20         6\n",
       "2006-02-22        14"
      ]
     },
     "execution_count": 3,
     "metadata": {},
     "output_type": "execute_result"
    }
   ],
   "source": [
    "dfp = df.groupby(\"created_date\").agg({'real_name':'count'})\n",
    "dfp = dfp.drop('0000-00-00')\n",
    "dfp.columns = ['subrds']\n",
    "dfp.head()"
   ]
  },
  {
   "cell_type": "code",
   "execution_count": 4,
   "id": "2afba73a",
   "metadata": {},
   "outputs": [
    {
     "data": {
      "text/html": [
       "<div>\n",
       "<style scoped>\n",
       "    .dataframe tbody tr th:only-of-type {\n",
       "        vertical-align: middle;\n",
       "    }\n",
       "\n",
       "    .dataframe tbody tr th {\n",
       "        vertical-align: top;\n",
       "    }\n",
       "\n",
       "    .dataframe thead th {\n",
       "        text-align: right;\n",
       "    }\n",
       "</style>\n",
       "<table border=\"1\" class=\"dataframe\">\n",
       "  <thead>\n",
       "    <tr style=\"text-align: right;\">\n",
       "      <th></th>\n",
       "      <th>subrds</th>\n",
       "    </tr>\n",
       "    <tr>\n",
       "      <th>created_date</th>\n",
       "      <th></th>\n",
       "    </tr>\n",
       "  </thead>\n",
       "  <tbody>\n",
       "    <tr>\n",
       "      <th>2006-01-31</th>\n",
       "      <td>2</td>\n",
       "    </tr>\n",
       "    <tr>\n",
       "      <th>2006-02-28</th>\n",
       "      <td>24</td>\n",
       "    </tr>\n",
       "    <tr>\n",
       "      <th>2006-03-31</th>\n",
       "      <td>4</td>\n",
       "    </tr>\n",
       "    <tr>\n",
       "      <th>2006-04-30</th>\n",
       "      <td>5</td>\n",
       "    </tr>\n",
       "    <tr>\n",
       "      <th>2006-05-31</th>\n",
       "      <td>1</td>\n",
       "    </tr>\n",
       "    <tr>\n",
       "      <th>...</th>\n",
       "      <td>...</td>\n",
       "    </tr>\n",
       "    <tr>\n",
       "      <th>2021-05-31</th>\n",
       "      <td>85843</td>\n",
       "    </tr>\n",
       "    <tr>\n",
       "      <th>2021-06-30</th>\n",
       "      <td>87366</td>\n",
       "    </tr>\n",
       "    <tr>\n",
       "      <th>2021-07-31</th>\n",
       "      <td>62345</td>\n",
       "    </tr>\n",
       "    <tr>\n",
       "      <th>2021-08-31</th>\n",
       "      <td>33992</td>\n",
       "    </tr>\n",
       "    <tr>\n",
       "      <th>2021-09-30</th>\n",
       "      <td>16621</td>\n",
       "    </tr>\n",
       "  </tbody>\n",
       "</table>\n",
       "<p>189 rows × 1 columns</p>\n",
       "</div>"
      ],
      "text/plain": [
       "              subrds\n",
       "created_date        \n",
       "2006-01-31         2\n",
       "2006-02-28        24\n",
       "2006-03-31         4\n",
       "2006-04-30         5\n",
       "2006-05-31         1\n",
       "...              ...\n",
       "2021-05-31     85843\n",
       "2021-06-30     87366\n",
       "2021-07-31     62345\n",
       "2021-08-31     33992\n",
       "2021-09-30     16621\n",
       "\n",
       "[189 rows x 1 columns]"
      ]
     },
     "execution_count": 4,
     "metadata": {},
     "output_type": "execute_result"
    }
   ],
   "source": [
    "dfp.index = pd.to_datetime(dfp.index, format='%Y-%m-%d')\n",
    "g = dfp.groupby(pd.Grouper(freq=\"M\"))\n",
    "g.sum()"
   ]
  },
  {
   "cell_type": "code",
   "execution_count": 5,
   "id": "4f9c0650",
   "metadata": {},
   "outputs": [
    {
     "data": {
      "text/html": [
       "<div>\n",
       "<style scoped>\n",
       "    .dataframe tbody tr th:only-of-type {\n",
       "        vertical-align: middle;\n",
       "    }\n",
       "\n",
       "    .dataframe tbody tr th {\n",
       "        vertical-align: top;\n",
       "    }\n",
       "\n",
       "    .dataframe thead th {\n",
       "        text-align: right;\n",
       "    }\n",
       "</style>\n",
       "<table border=\"1\" class=\"dataframe\">\n",
       "  <thead>\n",
       "    <tr style=\"text-align: right;\">\n",
       "      <th></th>\n",
       "      <th>subrds</th>\n",
       "      <th>balance</th>\n",
       "    </tr>\n",
       "    <tr>\n",
       "      <th>created_date</th>\n",
       "      <th></th>\n",
       "      <th></th>\n",
       "    </tr>\n",
       "  </thead>\n",
       "  <tbody>\n",
       "    <tr>\n",
       "      <th>2006-01-17</th>\n",
       "      <td>1</td>\n",
       "      <td>1</td>\n",
       "    </tr>\n",
       "    <tr>\n",
       "      <th>2006-01-19</th>\n",
       "      <td>1</td>\n",
       "      <td>2</td>\n",
       "    </tr>\n",
       "    <tr>\n",
       "      <th>2006-02-19</th>\n",
       "      <td>3</td>\n",
       "      <td>5</td>\n",
       "    </tr>\n",
       "    <tr>\n",
       "      <th>2006-02-20</th>\n",
       "      <td>6</td>\n",
       "      <td>11</td>\n",
       "    </tr>\n",
       "    <tr>\n",
       "      <th>2006-02-22</th>\n",
       "      <td>14</td>\n",
       "      <td>25</td>\n",
       "    </tr>\n",
       "  </tbody>\n",
       "</table>\n",
       "</div>"
      ],
      "text/plain": [
       "              subrds  balance\n",
       "created_date                 \n",
       "2006-01-17         1        1\n",
       "2006-01-19         1        2\n",
       "2006-02-19         3        5\n",
       "2006-02-20         6       11\n",
       "2006-02-22        14       25"
      ]
     },
     "execution_count": 5,
     "metadata": {},
     "output_type": "execute_result"
    }
   ],
   "source": [
    "dfp['balance'] = dfp['subrds'].cumsum()\n",
    "dfp.head()"
   ]
  },
  {
   "cell_type": "code",
   "execution_count": 6,
   "id": "f2320dbf",
   "metadata": {},
   "outputs": [
    {
     "data": {
      "text/html": [
       "<div>\n",
       "<style scoped>\n",
       "    .dataframe tbody tr th:only-of-type {\n",
       "        vertical-align: middle;\n",
       "    }\n",
       "\n",
       "    .dataframe tbody tr th {\n",
       "        vertical-align: top;\n",
       "    }\n",
       "\n",
       "    .dataframe thead th {\n",
       "        text-align: right;\n",
       "    }\n",
       "</style>\n",
       "<table border=\"1\" class=\"dataframe\">\n",
       "  <thead>\n",
       "    <tr style=\"text-align: right;\">\n",
       "      <th></th>\n",
       "      <th>subrds</th>\n",
       "      <th>balance</th>\n",
       "    </tr>\n",
       "    <tr>\n",
       "      <th>created_date</th>\n",
       "      <th></th>\n",
       "      <th></th>\n",
       "    </tr>\n",
       "  </thead>\n",
       "  <tbody>\n",
       "    <tr>\n",
       "      <th>2020-03-20</th>\n",
       "      <td>3208</td>\n",
       "      <td>2002879</td>\n",
       "    </tr>\n",
       "    <tr>\n",
       "      <th>2020-03-21</th>\n",
       "      <td>2640</td>\n",
       "      <td>2005519</td>\n",
       "    </tr>\n",
       "    <tr>\n",
       "      <th>2020-03-22</th>\n",
       "      <td>2591</td>\n",
       "      <td>2008110</td>\n",
       "    </tr>\n",
       "    <tr>\n",
       "      <th>2020-03-23</th>\n",
       "      <td>2619</td>\n",
       "      <td>2010729</td>\n",
       "    </tr>\n",
       "    <tr>\n",
       "      <th>2020-03-24</th>\n",
       "      <td>2432</td>\n",
       "      <td>2013161</td>\n",
       "    </tr>\n",
       "    <tr>\n",
       "      <th>...</th>\n",
       "      <td>...</td>\n",
       "      <td>...</td>\n",
       "    </tr>\n",
       "    <tr>\n",
       "      <th>2021-09-05</th>\n",
       "      <td>616</td>\n",
       "      <td>3082447</td>\n",
       "    </tr>\n",
       "    <tr>\n",
       "      <th>2021-09-06</th>\n",
       "      <td>3262</td>\n",
       "      <td>3085709</td>\n",
       "    </tr>\n",
       "    <tr>\n",
       "      <th>2021-09-07</th>\n",
       "      <td>3446</td>\n",
       "      <td>3089155</td>\n",
       "    </tr>\n",
       "    <tr>\n",
       "      <th>2021-09-08</th>\n",
       "      <td>3287</td>\n",
       "      <td>3092442</td>\n",
       "    </tr>\n",
       "    <tr>\n",
       "      <th>2021-09-09</th>\n",
       "      <td>681</td>\n",
       "      <td>3093123</td>\n",
       "    </tr>\n",
       "  </tbody>\n",
       "</table>\n",
       "<p>539 rows × 2 columns</p>\n",
       "</div>"
      ],
      "text/plain": [
       "              subrds  balance\n",
       "created_date                 \n",
       "2020-03-20      3208  2002879\n",
       "2020-03-21      2640  2005519\n",
       "2020-03-22      2591  2008110\n",
       "2020-03-23      2619  2010729\n",
       "2020-03-24      2432  2013161\n",
       "...              ...      ...\n",
       "2021-09-05       616  3082447\n",
       "2021-09-06      3262  3085709\n",
       "2021-09-07      3446  3089155\n",
       "2021-09-08      3287  3092442\n",
       "2021-09-09       681  3093123\n",
       "\n",
       "[539 rows x 2 columns]"
      ]
     },
     "execution_count": 6,
     "metadata": {},
     "output_type": "execute_result"
    }
   ],
   "source": [
    "dfp[dfp.balance >= 2000000]"
   ]
  },
  {
   "cell_type": "code",
   "execution_count": 7,
   "id": "e6af1193",
   "metadata": {
    "scrolled": true
   },
   "outputs": [
    {
     "data": {
      "text/plain": [
       "<AxesSubplot:xlabel='created_date', ylabel='balance'>"
      ]
     },
     "execution_count": 7,
     "metadata": {},
     "output_type": "execute_result"
    },
    {
     "data": {
      "image/png": "[encoded data removed]",
      "text/plain": [
       "<Figure size 432x288 with 1 Axes>"
      ]
     },
     "metadata": {
      "needs_background": "light"
     },
     "output_type": "display_data"
    }
   ],
   "source": [
    "sns.lineplot(x=\"created_date\", y=\"balance\", data=dfp)"
   ]
  },
  {
   "cell_type": "code",
   "execution_count": 81,
   "id": "f993cd19",
   "metadata": {},
   "outputs": [
    {
     "data": {
      "image/png": "[encoded data removed]",
      "text/plain": [
       "<Figure size 864x288 with 1 Axes>"
      ]
     },
     "metadata": {},
     "output_type": "display_data"
    }
   ],
   "source": [
    "import matplotlib.pyplot as plt\n",
    "from datetime import datetime\n",
    "\n",
    "sns.set_palette(\"colorblind\")\n",
    "sns.set_style(\"white\")\n",
    "sns.set_context(\"paper\")\n",
    "\n",
    "csfont = {'fontname':'Times New Roman'}\n",
    "hfont = {'fontname':'Times New Roman'}\n",
    "\n",
    "style = dict(size=12, color='black', fontname='Times New Roman')\n",
    "fig, ax = plt.subplots(figsize=(12, 4))\n",
    "\n",
    "ax.fill_between(dfp.index, dfp['balance'])\n",
    "ax.plot(dfp.index, dfp['balance'], linewidth=3)\n",
    "ax.plot(datetime.strptime('2016-11-29', '%Y-%m-%d'), 1000444,'ro', markersize=8) \n",
    "ax.plot(datetime.strptime('2020-03-20', '%Y-%m-%d'), 2002879,'ro', markersize=8) \n",
    "ax.plot(datetime.strptime('2021-07-08', '%Y-%m-%d'), 3000690,'ro', markersize=8) \n",
    "ax.text(datetime.strptime('2015-05-31', '%Y-%m-%d'), 1052450, \"Nov 2016\\n+1 Million\", **style)\n",
    "ax.text(datetime.strptime('2018-10-20', '%Y-%m-%d'), 2033000, \"Mar 2020\\n+2 Million\", **style)\n",
    "ax.text(datetime.strptime('2021-07-08', '%Y-%m-%d'), 3093130, \"Jul 2021\\n+3 Million\", **style)\n",
    "\n",
    "plt.tick_params(labelsize=13)\n",
    "plt.xlabel('Year', size=13, **hfont)\n",
    "plt.ylabel('Number of Subreddits (Millions)', size=13, **hfont)\n",
    "\n",
    "ax.spines['top'].set_visible(False)\n",
    "ax.spines['right'].set_visible(False)\n",
    "\n",
    "plt.title('Figure 1 Number of subreddits over time. Data from: (SK Media Group-LLC, 2021)', y=-.3, **csfont)\n",
    "\n",
    "\n",
    "for tick in ax.get_xticklabels():\n",
    "    tick.set_fontname(\"Times New Roman\")\n",
    "for tick in ax.get_yticklabels():\n",
    "    tick.set_fontname(\"Times New Roman\")\n",
    "    \n",
    "plt.savefig(\"img/NoSubreddits.jpg\", dpi=300, bbox_inches=\"tight\")\n",
    "plt.show()\n"
   ]
  },
  {
   "cell_type": "code",
   "execution_count": null,
   "id": "13c30df6",
   "metadata": {},
   "outputs": [],
   "source": []
  },
  {
   "cell_type": "code",
   "execution_count": null,
   "id": "428dc820",
   "metadata": {},
   "outputs": [],
   "source": []
  }
 ],
 "metadata": {
  "kernelspec": {
   "display_name": "Python 3",
   "language": "python",
   "name": "python3"
  },
  "language_info": {
   "codemirror_mode": {
    "name": "ipython",
    "version": 3
   },
   "file_extension": ".py",
   "mimetype": "text/x-python",
   "name": "python",
   "nbconvert_exporter": "python",
   "pygments_lexer": "ipython3",
   "version": "3.8.8"
  }
 },
 "nbformat": 4,
 "nbformat_minor": 5
}
